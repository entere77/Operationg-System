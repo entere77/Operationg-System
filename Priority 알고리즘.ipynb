{
 "cells": [
  {
   "cell_type": "code",
   "execution_count": 20,
   "id": "3a4d661d",
   "metadata": {},
   "outputs": [
    {
     "data": {
      "text/plain": [
       "[['P1', 10, 5], ['P2', 29, 1], ['P3', 3, 3], ['P4', 7, 4], ['P5', 12, 2]]"
      ]
     },
     "execution_count": 20,
     "metadata": {},
     "output_type": "execute_result"
    }
   ],
   "source": [
    "df_1 = [['P1',10,5],\n",
    "        ['P2',29,1],\n",
    "        ['P3',3,3],\n",
    "        ['P4',7,4],\n",
    "        ['P5',12,2]]\n",
    "df_1"
   ]
  },
  {
   "cell_type": "code",
   "execution_count": 21,
   "id": "e79ec2d5",
   "metadata": {},
   "outputs": [
    {
     "data": {
      "text/plain": [
       "[['P1', 2, 2], ['P2', 1, 1], ['P3', 8, 4], ['P4', 4, 2], ['P5', 5, 3]]"
      ]
     },
     "execution_count": 21,
     "metadata": {},
     "output_type": "execute_result"
    }
   ],
   "source": [
    "df_2 = [['P1',2,2],\n",
    "        ['P2',1,1],\n",
    "        ['P3',8,4],\n",
    "        ['P4',4,2],\n",
    "        ['P5',5,3]]\n",
    "df_2"
   ]
  },
  {
   "cell_type": "code",
   "execution_count": 22,
   "id": "c2c1708c",
   "metadata": {},
   "outputs": [],
   "source": [
    "d = dict()\n",
    "\n",
    "for i in range(5):\n",
    "    key = df_1[i][0]\n",
    "    l = list()\n",
    "    l.append(df_1[i][1])\n",
    "    l.append(df_1[i][2])\n",
    "    d[key] = l"
   ]
  },
  {
   "cell_type": "code",
   "execution_count": 23,
   "id": "94a36183",
   "metadata": {},
   "outputs": [
    {
     "data": {
      "text/plain": [
       "[('P2', [29, 1]),\n",
       " ('P5', [12, 2]),\n",
       " ('P3', [3, 3]),\n",
       " ('P4', [7, 4]),\n",
       " ('P1', [10, 5])]"
      ]
     },
     "execution_count": 23,
     "metadata": {},
     "output_type": "execute_result"
    }
   ],
   "source": [
    "d = sorted(d.items(), key=lambda item: item[1][1])\n",
    "d"
   ]
  },
  {
   "cell_type": "code",
   "execution_count": 9,
   "id": "33964eb3",
   "metadata": {},
   "outputs": [],
   "source": [
    "def findWaitingTime(processes, n, wt):\n",
    "    wt[0] = 0\n",
    " \n",
    "    # calculating waiting time\n",
    "    for i in range(1, n):\n",
    "        wt[i] = processes[i - 1][1] + wt[i - 1]"
   ]
  },
  {
   "cell_type": "code",
   "execution_count": 10,
   "id": "b2725452",
   "metadata": {},
   "outputs": [],
   "source": [
    "def findTurnAroundTime(processes, n, wt, tat):\n",
    "     \n",
    "    # Calculating turnaround time by\n",
    "    # adding bt[i] + wt[i]\n",
    "    for i in range(n):\n",
    "        tat[i] = processes[i][1] + wt[i]"
   ]
  },
  {
   "cell_type": "code",
   "execution_count": 11,
   "id": "1169d5ef",
   "metadata": {},
   "outputs": [],
   "source": [
    "def findavgTime(processes, n):\n",
    "    wt = [0] * n\n",
    "    tat = [0] * n\n",
    " \n",
    "    # Function to find waiting time\n",
    "    # of all processes\n",
    "    findWaitingTime(processes, n, wt)\n",
    " \n",
    "    # Function to find turn around time\n",
    "    # for all processes\n",
    "    findTurnAroundTime(processes, n, wt, tat)\n",
    " \n",
    "    # Display processes along with all details\n",
    "    print(\"\\nProcesses    Burst Time    Waiting\",\n",
    "          \"Time    Turn-Around Time\")\n",
    "    total_wt = 0\n",
    "    total_tat = 0\n",
    "    for i in range(n):\n",
    " \n",
    "        total_wt = total_wt + wt[i]\n",
    "        total_tat = total_tat + tat[i]\n",
    "        print(\" \", processes[i][0], \"\\t\\t\",\n",
    "                   processes[i][1], \"\\t\\t\",\n",
    "                   wt[i], \"\\t\\t\", tat[i])\n",
    " \n",
    "    print(\"\\nAverage waiting time = %.5f \"%(total_wt /n))\n",
    "    # print(\"Average turn around time = \", total_tat / n)"
   ]
  },
  {
   "cell_type": "code",
   "execution_count": 12,
   "id": "19933084",
   "metadata": {},
   "outputs": [],
   "source": [
    "def priorityScheduling(proc, n):\n",
    "     \n",
    "    # Sort processes by priority\n",
    "    proc = sorted(proc, key = lambda proc:proc[2],\n",
    "                                  reverse = True);\n",
    " \n",
    "    print(\"Order in which processes gets executed\")\n",
    "    for i in proc:\n",
    "        print(i[0], end = \" \")\n",
    "    findavgTime(proc, n)"
   ]
  },
  {
   "cell_type": "code",
   "execution_count": 13,
   "id": "4f9704e1",
   "metadata": {},
   "outputs": [
    {
     "name": "stdout",
     "output_type": "stream",
     "text": [
      "Order in which processes gets executed\n",
      "1 3 2 \n",
      "Processes    Burst Time    Waiting Time    Turn-Around Time\n",
      "  1 \t\t 10 \t\t 0 \t\t 10\n",
      "  3 \t\t 8 \t\t 10 \t\t 18\n",
      "  2 \t\t 5 \t\t 18 \t\t 23\n",
      "\n",
      "Average waiting time = 9.33333 \n",
      "Average turn around time =  17.0\n"
     ]
    }
   ],
   "source": [
    "if __name__ ==\"__main__\":\n",
    "     \n",
    "    # Process id's\n",
    "    proc = [[1, 10, 1],\n",
    "            [2, 5, 0],\n",
    "            [3, 8, 1]]\n",
    "    n = 3\n",
    "    priorityScheduling(proc, n)"
   ]
  },
  {
   "cell_type": "code",
   "execution_count": 15,
   "id": "23295337",
   "metadata": {},
   "outputs": [
    {
     "name": "stdout",
     "output_type": "stream",
     "text": [
      "1번 프로세스 집합\n"
     ]
    },
    {
     "ename": "TypeError",
     "evalue": "findavgTime() takes 2 positional arguments but 3 were given",
     "output_type": "error",
     "traceback": [
      "\u001b[1;31m---------------------------------------------------------------------------\u001b[0m",
      "\u001b[1;31mTypeError\u001b[0m                                 Traceback (most recent call last)",
      "Cell \u001b[1;32mIn [15], line 17\u001b[0m\n\u001b[0;32m     13\u001b[0m     burst_time2\u001b[38;5;241m.\u001b[39mappend(df_2[i][\u001b[38;5;241m1\u001b[39m])\n\u001b[0;32m     16\u001b[0m \u001b[38;5;28mprint\u001b[39m(\u001b[38;5;124m\"\u001b[39m\u001b[38;5;124m1번 프로세스 집합\u001b[39m\u001b[38;5;124m\"\u001b[39m)\n\u001b[1;32m---> 17\u001b[0m \u001b[43mfindavgTime\u001b[49m\u001b[43m(\u001b[49m\u001b[43mproc1\u001b[49m\u001b[43m,\u001b[49m\u001b[43m \u001b[49m\u001b[38;5;241;43m5\u001b[39;49m\u001b[43m,\u001b[49m\u001b[43m \u001b[49m\u001b[43mburst_time1\u001b[49m\u001b[43m)\u001b[49m\n\u001b[0;32m     18\u001b[0m \u001b[38;5;28mprint\u001b[39m(\u001b[38;5;124m'\u001b[39m\u001b[38;5;130;01m\\n\u001b[39;00m\u001b[38;5;124m'\u001b[39m)\n\u001b[0;32m     19\u001b[0m \u001b[38;5;28mprint\u001b[39m(\u001b[38;5;124m\"\u001b[39m\u001b[38;5;124m2번 프로세스 집합\u001b[39m\u001b[38;5;124m\"\u001b[39m)\n",
      "\u001b[1;31mTypeError\u001b[0m: findavgTime() takes 2 positional arguments but 3 were given"
     ]
    }
   ],
   "source": [
    "if __name__ ==\"__main__\":\n",
    "    proc1 = list()\n",
    "    proc2 = list()\n",
    "    for i in range(5):\n",
    "        proc1.append(df_1[i][0])\n",
    "        proc2.append(df_2[i][0])\n",
    " \n",
    "    # Burst time of all processes\n",
    "    burst_time1 = list()\n",
    "    burst_time2 = list()\n",
    "    for i in range(5):\n",
    "        burst_time1.append(df_1[i][1])\n",
    "        burst_time2.append(df_2[i][1])\n",
    " \n",
    "    \n",
    "    print(\"1번 프로세스 집합\")\n",
    "    findavgTime(proc1, 5, burst_time1)\n",
    "    print('\\n')\n",
    "    print(\"2번 프로세스 집합\")\n",
    "    findavgTime(proc2, 5, burst_time2)"
   ]
  },
  {
   "cell_type": "code",
   "execution_count": null,
   "id": "23b53c48",
   "metadata": {},
   "outputs": [],
   "source": []
  },
  {
   "cell_type": "code",
   "execution_count": null,
   "id": "a12c5129",
   "metadata": {},
   "outputs": [],
   "source": []
  },
  {
   "cell_type": "code",
   "execution_count": null,
   "id": "0c79d8f7",
   "metadata": {},
   "outputs": [],
   "source": []
  },
  {
   "cell_type": "code",
   "execution_count": null,
   "id": "9d328406",
   "metadata": {},
   "outputs": [],
   "source": []
  },
  {
   "cell_type": "code",
   "execution_count": null,
   "id": "9c0f5f00",
   "metadata": {},
   "outputs": [],
   "source": []
  },
  {
   "cell_type": "code",
   "execution_count": null,
   "id": "4818f8f5",
   "metadata": {},
   "outputs": [],
   "source": []
  }
 ],
 "metadata": {
  "kernelspec": {
   "display_name": "Python 3 (ipykernel)",
   "language": "python",
   "name": "python3"
  },
  "language_info": {
   "codemirror_mode": {
    "name": "ipython",
    "version": 3
   },
   "file_extension": ".py",
   "mimetype": "text/x-python",
   "name": "python",
   "nbconvert_exporter": "python",
   "pygments_lexer": "ipython3",
   "version": "3.8.6"
  }
 },
 "nbformat": 4,
 "nbformat_minor": 5
}
