{
 "cells": [
  {
   "cell_type": "code",
   "execution_count": 2,
   "id": "84e858d0",
   "metadata": {},
   "outputs": [
    {
     "data": {
      "text/plain": [
       "[['P1', 10], ['P2', 29], ['P3', 3], ['P4', 7], ['P5', 12]]"
      ]
     },
     "execution_count": 2,
     "metadata": {},
     "output_type": "execute_result"
    }
   ],
   "source": [
    "df_1 = [['P1',10],\n",
    "        ['P2',29],\n",
    "        ['P3',3],\n",
    "        ['P4',7],\n",
    "        ['P5',12]]\n",
    "df_1"
   ]
  },
  {
   "cell_type": "code",
   "execution_count": 106,
   "id": "d8fe2113",
   "metadata": {
    "scrolled": true
   },
   "outputs": [
    {
     "data": {
      "text/plain": [
       "[['P1', 10], ['P2', 29], ['P3', 3], ['P4', 7], ['P5', 12]]"
      ]
     },
     "execution_count": 106,
     "metadata": {},
     "output_type": "execute_result"
    }
   ],
   "source": [
    "df_1"
   ]
  },
  {
   "cell_type": "code",
   "execution_count": 107,
   "id": "47f35bdc",
   "metadata": {},
   "outputs": [
    {
     "data": {
      "text/plain": [
       "10"
      ]
     },
     "execution_count": 107,
     "metadata": {},
     "output_type": "execute_result"
    }
   ],
   "source": [
    "df_1[0][1]"
   ]
  },
  {
   "cell_type": "code",
   "execution_count": 108,
   "id": "737f4ea4",
   "metadata": {},
   "outputs": [],
   "source": [
    "d = dict()\n",
    "\n",
    "for i in range(5):\n",
    "    key = df_1[i][0]\n",
    "    l = list()\n",
    "    l.append(df_1[i][1])\n",
    "    d[key] = l"
   ]
  },
  {
   "cell_type": "code",
   "execution_count": 109,
   "id": "c2e8570a",
   "metadata": {},
   "outputs": [
    {
     "data": {
      "text/plain": [
       "{'P1': [10], 'P2': [29], 'P3': [3], 'P4': [7], 'P5': [12]}"
      ]
     },
     "execution_count": 109,
     "metadata": {},
     "output_type": "execute_result"
    }
   ],
   "source": [
    "d"
   ]
  },
  {
   "cell_type": "code",
   "execution_count": 110,
   "id": "bf987762",
   "metadata": {},
   "outputs": [],
   "source": [
    "d = sorted(d.items(), key=lambda item: item[1][0])"
   ]
  },
  {
   "cell_type": "code",
   "execution_count": 111,
   "id": "35a30049",
   "metadata": {},
   "outputs": [
    {
     "data": {
      "text/plain": [
       "[('P3', [3]), ('P4', [7]), ('P1', [10]), ('P5', [12]), ('P2', [29])]"
      ]
     },
     "execution_count": 111,
     "metadata": {},
     "output_type": "execute_result"
    }
   ],
   "source": [
    "d"
   ]
  },
  {
   "cell_type": "code",
   "execution_count": 112,
   "id": "2d18447d",
   "metadata": {},
   "outputs": [
    {
     "data": {
      "text/plain": [
       "3"
      ]
     },
     "execution_count": 112,
     "metadata": {},
     "output_type": "execute_result"
    }
   ],
   "source": [
    "d[0][1][0]"
   ]
  },
  {
   "cell_type": "code",
   "execution_count": 113,
   "id": "2a27bb8b",
   "metadata": {},
   "outputs": [],
   "source": [
    "ET = []\n",
    "for i in range(len(d)):\n",
    "    # first process\n",
    "    if(i==0):\n",
    "        ET.append(d[i][1][0])\n",
    "        \n",
    "    # get prevET + newBT\n",
    "    else:\n",
    "        ET.append(ET[i-1] + d[i][1][0])"
   ]
  },
  {
   "cell_type": "code",
   "execution_count": 114,
   "id": "1e430ba7",
   "metadata": {},
   "outputs": [
    {
     "data": {
      "text/plain": [
       "[3, 10, 20, 32, 61]"
      ]
     },
     "execution_count": 114,
     "metadata": {},
     "output_type": "execute_result"
    }
   ],
   "source": [
    "ET"
   ]
  },
  {
   "cell_type": "code",
   "execution_count": 140,
   "id": "ee45b37b",
   "metadata": {},
   "outputs": [],
   "source": [
    "# TAT는 Turn Around time\n",
    "\n",
    "TAT = []\n",
    "for i in range(len(d)):\n",
    "    TAT.append(ET[i]) # arrival time이 없기 때문에, Turn Around Time은 Exit time이 된다."
   ]
  },
  {
   "cell_type": "code",
   "execution_count": 147,
   "id": "ea8be0c2",
   "metadata": {},
   "outputs": [],
   "source": [
    "# WT는 Wait time\n",
    "\n",
    "WT = []\n",
    "for i in range(len(d)):\n",
    "    WT.append(TAT[i] - d[i][1][0]) # d[i][1][0] 은 버스트 시간을 의미한다."
   ]
  },
  {
   "cell_type": "code",
   "execution_count": 148,
   "id": "ffcc35fd",
   "metadata": {},
   "outputs": [],
   "source": [
    "# 평균 Wait time 구하기\n",
    "\n",
    "avg_WT = 0\n",
    "for i in WT:\n",
    "    avg_WT +=i\n",
    "avg_WT = (avg_WT/5)"
   ]
  },
  {
   "cell_type": "code",
   "execution_count": 149,
   "id": "b1d55cbe",
   "metadata": {},
   "outputs": [
    {
     "name": "stdout",
     "output_type": "stream",
     "text": [
      "Process | Burst | Exit | Turn Around | Wait |\n",
      "    P3    |  3  |     3   |     3   |    0    |  \n",
      "    P4    |  7  |     10   |     10   |    3    |  \n",
      "    P1    |  10  |     20   |     20   |    10    |  \n",
      "    P5    |  12  |     32   |     32   |    20    |  \n",
      "    P2    |  29  |     61   |     61   |    32    |  \n",
      "Average Waiting Time:  13.0\n"
     ]
    }
   ],
   "source": [
    "# 출력\n",
    "\n",
    "print(\"Process | Burst | Exit | Turn Around | Wait |\")\n",
    "for i in range(5):\n",
    "      print(\"   \",d[i][0],\"   | \",d[i][1][0],\" |    \",ET[i],\"  |    \",TAT[i],\"  |   \",WT[i],\"   |  \")\n",
    "print(\"Average Waiting Time: \",avg_WT)"
   ]
  },
  {
   "cell_type": "code",
   "execution_count": null,
   "id": "3e1a6d07",
   "metadata": {},
   "outputs": [],
   "source": []
  },
  {
   "cell_type": "code",
   "execution_count": null,
   "id": "5fd86a39",
   "metadata": {},
   "outputs": [],
   "source": []
  },
  {
   "cell_type": "code",
   "execution_count": null,
   "id": "d429a815",
   "metadata": {},
   "outputs": [],
   "source": []
  },
  {
   "cell_type": "code",
   "execution_count": 3,
   "id": "fffd34cf",
   "metadata": {},
   "outputs": [],
   "source": [
    "def SJF(df):\n",
    "    d = dict()\n",
    "\n",
    "    for i in range(5):\n",
    "        key = df_1[i][0]\n",
    "        l = list()\n",
    "        l.append(df_1[i][1])\n",
    "        d[key] = l\n",
    "       \n",
    "    d = sorted(d.items(), key=lambda item: item[1][0])\n",
    "    \n",
    "    \n",
    "    ET = []\n",
    "    for i in range(len(d)):\n",
    "        # first process\n",
    "        if(i==0):\n",
    "            ET.append(d[i][1][0])\n",
    "\n",
    "        # get prevET + newBT\n",
    "        else:\n",
    "            ET.append(ET[i-1] + d[i][1][0])\n",
    "            \n",
    "       \n",
    "    \n",
    "    # TAT는 Turn Around time\n",
    "    TAT = []\n",
    "    for i in range(len(d)):\n",
    "        TAT.append(ET[i]) # arrival time이 없기 때문에, Turn Around Time은 Exit time이 된다.\n",
    "        \n",
    "        \n",
    "        \n",
    "    # WT는 Wait time\n",
    "    WT = []\n",
    "    for i in range(len(d)):\n",
    "        WT.append(TAT[i] - d[i][1][0]) # d[i][1][0] 은 버스트 시간을 의미한다.\n",
    "        \n",
    " \n",
    "\n",
    "    # 평균 Wait time 구하기\n",
    "    avg_WT = 0\n",
    "    for i in WT:\n",
    "        avg_WT +=i\n",
    "    avg_WT = (avg_WT/5)\n",
    "    \n",
    "\n",
    "    \n",
    "    # 출력\n",
    "    print(\"Process | Burst | Exit | Turn Around | Wait |\")\n",
    "    for i in range(5):\n",
    "          print(\"   \",d[i][0],\"   | \",d[i][1][0],\" |    \",ET[i],\"  |    \",TAT[i],\"  |   \",WT[i],\"   |  \")\n",
    "    print(\"Average Waiting Time: \",avg_WT)"
   ]
  },
  {
   "cell_type": "code",
   "execution_count": 4,
   "id": "acf5842a",
   "metadata": {},
   "outputs": [
    {
     "name": "stdout",
     "output_type": "stream",
     "text": [
      "Process | Burst | Exit | Turn Around | Wait |\n",
      "    P3    |  3  |     3   |     3   |    0    |  \n",
      "    P4    |  7  |     10   |     10   |    3    |  \n",
      "    P1    |  10  |     20   |     20   |    10    |  \n",
      "    P5    |  12  |     32   |     32   |    20    |  \n",
      "    P2    |  29  |     61   |     61   |    32    |  \n",
      "Average Waiting Time:  13.0\n"
     ]
    }
   ],
   "source": [
    "SJF(df_1)"
   ]
  },
  {
   "cell_type": "code",
   "execution_count": null,
   "id": "d7ea1049",
   "metadata": {},
   "outputs": [],
   "source": []
  }
 ],
 "metadata": {
  "kernelspec": {
   "display_name": "Python 3 (ipykernel)",
   "language": "python",
   "name": "python3"
  },
  "language_info": {
   "codemirror_mode": {
    "name": "ipython",
    "version": 3
   },
   "file_extension": ".py",
   "mimetype": "text/x-python",
   "name": "python",
   "nbconvert_exporter": "python",
   "pygments_lexer": "ipython3",
   "version": "3.8.6"
  }
 },
 "nbformat": 4,
 "nbformat_minor": 5
}
