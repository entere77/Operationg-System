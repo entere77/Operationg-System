{
 "cells": [
  {
   "cell_type": "code",
   "execution_count": 19,
   "id": "cfeb9205",
   "metadata": {},
   "outputs": [
    {
     "data": {
      "text/plain": [
       "[['P1', 10], ['P2', 29], ['P3', 3], ['P4', 7], ['P5', 12]]"
      ]
     },
     "execution_count": 19,
     "metadata": {},
     "output_type": "execute_result"
    }
   ],
   "source": [
    "df_1 = [['P1',10],\n",
    "        ['P2',29],\n",
    "        ['P3',3],\n",
    "        ['P4',7],\n",
    "        ['P5',12]]\n",
    "df_1"
   ]
  },
  {
   "cell_type": "code",
   "execution_count": 20,
   "id": "8168f425",
   "metadata": {},
   "outputs": [],
   "source": [
    "proc = list()\n",
    "for i in range(5):\n",
    "    proc.append(df_1[i][0])"
   ]
  },
  {
   "cell_type": "code",
   "execution_count": 21,
   "id": "b7b2274a",
   "metadata": {},
   "outputs": [
    {
     "data": {
      "text/plain": [
       "['P1', 'P2', 'P3', 'P4', 'P5']"
      ]
     },
     "execution_count": 21,
     "metadata": {},
     "output_type": "execute_result"
    }
   ],
   "source": [
    "proc"
   ]
  },
  {
   "cell_type": "code",
   "execution_count": 22,
   "id": "42bcb114",
   "metadata": {},
   "outputs": [],
   "source": [
    "burst_time = list()\n",
    "for i in range(5):\n",
    "    burst_time.append(df_1[i][1])"
   ]
  },
  {
   "cell_type": "code",
   "execution_count": 23,
   "id": "82233e9f",
   "metadata": {},
   "outputs": [
    {
     "data": {
      "text/plain": [
       "[10, 29, 3, 7, 12]"
      ]
     },
     "execution_count": 23,
     "metadata": {},
     "output_type": "execute_result"
    }
   ],
   "source": [
    "burst_time"
   ]
  },
  {
   "cell_type": "code",
   "execution_count": 24,
   "id": "4e32eb5a",
   "metadata": {},
   "outputs": [],
   "source": [
    "def findWaitingTime(processes, n, bt, wt, quantum):\n",
    "    rem_bt = [0] * n\n",
    " \n",
    "    # Copy the burst time into rt[]\n",
    "    for i in range(n):\n",
    "        rem_bt[i] = bt[i]\n",
    "    t = 0 # Current time\n",
    "\n",
    "    while(1):\n",
    "        done = True\n",
    "\n",
    "        for i in range(n):\n",
    "\n",
    "            if (rem_bt[i] > 0) :\n",
    "                done = False # There is a pending process\n",
    "                 \n",
    "                if (rem_bt[i] > quantum) :\n",
    "\n",
    "                    t += quantum\n",
    "\n",
    "                    rem_bt[i] -= quantum\n",
    "                 \n",
    "\n",
    "                else:\n",
    "\n",
    "                    t = t + rem_bt[i]\n",
    "                    \n",
    "                    wt[i] = t - bt[i]\n",
    "                    \n",
    "                    rem_bt[i] = 0\n",
    "                 \n",
    "        # If all processes are done\n",
    "        if (done == True):\n",
    "            break"
   ]
  },
  {
   "cell_type": "code",
   "execution_count": null,
   "id": "26a39440",
   "metadata": {},
   "outputs": [],
   "source": []
  },
  {
   "cell_type": "code",
   "execution_count": null,
   "id": "4b8d1c54",
   "metadata": {},
   "outputs": [],
   "source": []
  },
  {
   "cell_type": "code",
   "execution_count": null,
   "id": "31a231c7",
   "metadata": {},
   "outputs": [],
   "source": []
  },
  {
   "cell_type": "code",
   "execution_count": 25,
   "id": "b52498c7",
   "metadata": {},
   "outputs": [],
   "source": [
    "def findTurnAroundTime(processes, n, bt, wt, tat):\n",
    "     \n",
    "    # Calculating turnaround time\n",
    "    for i in range(n):\n",
    "        tat[i] = bt[i] + wt[i]"
   ]
  },
  {
   "cell_type": "code",
   "execution_count": null,
   "id": "6ed98d8b",
   "metadata": {},
   "outputs": [],
   "source": []
  },
  {
   "cell_type": "code",
   "execution_count": null,
   "id": "7e9e885d",
   "metadata": {},
   "outputs": [],
   "source": []
  },
  {
   "cell_type": "code",
   "execution_count": null,
   "id": "be922653",
   "metadata": {},
   "outputs": [],
   "source": []
  },
  {
   "cell_type": "code",
   "execution_count": 26,
   "id": "f083e4f8",
   "metadata": {},
   "outputs": [],
   "source": [
    "# Function to calculate average waiting\n",
    "# and turn-around times.\n",
    "def findavgTime(processes, n, bt, quantum):\n",
    "    wt = [0] * n\n",
    "    tat = [0] * n\n",
    " \n",
    "    # Function to find waiting time\n",
    "    # of all processes\n",
    "    findWaitingTime(processes, n, bt,\n",
    "                         wt, quantum)\n",
    " \n",
    "    # Function to find turn around time\n",
    "    # for all processes\n",
    "    findTurnAroundTime(processes, n, bt,\n",
    "                                wt, tat)\n",
    " \n",
    "    # Display processes along with all details\n",
    "    print(\"Processes    Burst Time     Waiting\",\n",
    "                     \"Time    Turn-Around Time\")\n",
    "    total_wt = 0\n",
    "    total_tat = 0\n",
    "    for i in range(n):\n",
    " \n",
    "        total_wt = total_wt + wt[i]\n",
    "        total_tat = total_tat + tat[i]\n",
    "        print(\" \", processes[i], \"\\t\\t\", bt[i],\n",
    "              \"\\t\\t\", wt[i], \"\\t\\t\", tat[i])   # processes[i]로 고침, i+1에서\n",
    " \n",
    "    print(\"\\nAverage waiting time = %.5f \"%(total_wt /n) )\n",
    "    print(\"Average turn around time = %.5f \"% (total_tat / n))"
   ]
  },
  {
   "cell_type": "code",
   "execution_count": null,
   "id": "15e77d14",
   "metadata": {},
   "outputs": [],
   "source": []
  },
  {
   "cell_type": "code",
   "execution_count": null,
   "id": "171e05f7",
   "metadata": {},
   "outputs": [],
   "source": []
  },
  {
   "cell_type": "code",
   "execution_count": null,
   "id": "e41f2414",
   "metadata": {},
   "outputs": [],
   "source": []
  },
  {
   "cell_type": "code",
   "execution_count": 40,
   "id": "c6f64ea4",
   "metadata": {},
   "outputs": [
    {
     "name": "stdout",
     "output_type": "stream",
     "text": [
      "Processes    Burst Time     Waiting Time    Turn-Around Time\n",
      "  P1 \t\t 10 \t\t 18 \t\t 28\n",
      "  P2 \t\t 29 \t\t 32 \t\t 61\n",
      "  P3 \t\t 3 \t\t 10 \t\t 13\n",
      "  P4 \t\t 7 \t\t 28 \t\t 35\n",
      "  P5 \t\t 12 \t\t 35 \t\t 47\n",
      "\n",
      "Average waiting time = 24.60000 \n",
      "Average turn around time = 36.80000 \n"
     ]
    }
   ],
   "source": [
    "# Driver code\n",
    "if __name__ ==\"__main__\":\n",
    "     \n",
    "    # Process id's\n",
    "    proc = list()\n",
    "    for i in range(5):\n",
    "        proc.append(df_1[i][0])\n",
    " \n",
    "    # Burst time of all processes\n",
    "    burst_time = list()\n",
    "    for i in range(5):\n",
    "        burst_time.append(df_1[i][1])\n",
    " \n",
    "    # Time quantum\n",
    "    quantum = 5;\n",
    "    findavgTime(proc, 5, burst_time, quantum)"
   ]
  },
  {
   "cell_type": "code",
   "execution_count": null,
   "id": "a51fc6ba",
   "metadata": {},
   "outputs": [],
   "source": []
  },
  {
   "cell_type": "code",
   "execution_count": null,
   "id": "242e8e82",
   "metadata": {},
   "outputs": [],
   "source": []
  },
  {
   "cell_type": "code",
   "execution_count": null,
   "id": "7823b5cd",
   "metadata": {},
   "outputs": [],
   "source": []
  },
  {
   "cell_type": "code",
   "execution_count": 41,
   "id": "4f69cf31",
   "metadata": {},
   "outputs": [],
   "source": [
    "def RR(df):\n",
    "    #n = 5\n",
    "    def findWaitingTime(processes, n, bt, wt, quantum):\n",
    "        rem_bt = [0] * n\n",
    " \n",
    "        # Copy the burst time into rt[]\n",
    "        for i in range(n):\n",
    "            rem_bt[i] = bt[i]\n",
    "\n",
    "\n",
    "        t = 0 # Current time\n",
    "        while(1):\n",
    "            done = True\n",
    "\n",
    "            for i in range(n):\n",
    "\n",
    "                if (rem_bt[i] > 0) :\n",
    "                    done = False # There is a pending process\n",
    "\n",
    "                    if (rem_bt[i] > quantum) :\n",
    "\n",
    "                        t += quantum\n",
    "\n",
    "                        rem_bt[i] -= quantum\n",
    "\n",
    "\n",
    "                    else:\n",
    "\n",
    "                        t = t + rem_bt[i]\n",
    "\n",
    "                        wt[i] = t - bt[i]\n",
    "\n",
    "                        rem_bt[i] = 0\n",
    "\n",
    "            # If all processes are done\n",
    "            if (done == True):\n",
    "                break\n",
    "            \n",
    "            \n",
    "            \n",
    "    def findTurnAroundTime(processes, n, bt, wt, tat):\n",
    "     \n",
    "        # Calculating turnaround time\n",
    "        for i in range(n):\n",
    "            tat[i] = bt[i] + wt[i]\n",
    "        \n",
    "        \n",
    "    \n",
    "    \n",
    "    # Function to calculate average waiting\n",
    "    # and turn-around times.\n",
    "    def findavgTime(processes, n, bt, quantum):\n",
    "        wt = [0] * n\n",
    "        tat = [0] * n\n",
    "\n",
    "        # Function to find waiting time\n",
    "        # of all processes\n",
    "        findWaitingTime(processes, n, bt,\n",
    "                             wt, quantum)\n",
    "\n",
    "        # Function to find turn around time\n",
    "        # for all processes\n",
    "        findTurnAroundTime(processes, n, bt,\n",
    "                                    wt, tat)\n",
    "\n",
    "        # Display processes along with all details\n",
    "        print(\"Processes    Burst Time     Waiting\",\n",
    "                         \"Time    Turn-Around Time\")\n",
    "        total_wt = 0\n",
    "        total_tat = 0\n",
    "        for i in range(n):\n",
    "\n",
    "            total_wt = total_wt + wt[i]\n",
    "            total_tat = total_tat + tat[i]\n",
    "            print(\" \", processes[i], \"\\t\\t\", bt[i],\n",
    "                  \"\\t\\t\", wt[i], \"\\t\\t\", tat[i])   # processes[i]로 고침, i+1에서\n",
    "\n",
    "        print(\"\\nAverage waiting time = %.5f \"%(total_wt /n) )\n",
    "        \n",
    "        \n",
    "        \n",
    "    # Driver code\n",
    "    if __name__ ==\"__main__\":\n",
    "\n",
    "        # Process id's\n",
    "        proc = list()\n",
    "        for i in range(5):\n",
    "            proc.append(df_1[i][0])\n",
    "\n",
    "        # Burst time of all processes\n",
    "        burst_time = list()\n",
    "        for i in range(5):\n",
    "            burst_time.append(df_1[i][1])\n",
    "\n",
    "        # Time quantum\n",
    "        quantum = 2;\n",
    "        findavgTime(proc, 5, burst_time, quantum)"
   ]
  },
  {
   "cell_type": "code",
   "execution_count": 18,
   "id": "9aab0bfd",
   "metadata": {},
   "outputs": [
    {
     "name": "stdout",
     "output_type": "stream",
     "text": [
      "Processes    Burst Time     Waiting Time    Turn-Around Time\n",
      "  P1 \t\t 10 \t\t 26 \t\t 36\n",
      "  P2 \t\t 29 \t\t 32 \t\t 61\n",
      "  P3 \t\t 3 \t\t 12 \t\t 15\n",
      "  P4 \t\t 7 \t\t 25 \t\t 32\n",
      "  P5 \t\t 12 \t\t 32 \t\t 44\n",
      "\n",
      "Average waiting time = 25.40000 \n"
     ]
    }
   ],
   "source": [
    "RR(df_1)"
   ]
  },
  {
   "cell_type": "code",
   "execution_count": null,
   "id": "2125d225",
   "metadata": {},
   "outputs": [],
   "source": []
  }
 ],
 "metadata": {
  "kernelspec": {
   "display_name": "Python 3 (ipykernel)",
   "language": "python",
   "name": "python3"
  },
  "language_info": {
   "codemirror_mode": {
    "name": "ipython",
    "version": 3
   },
   "file_extension": ".py",
   "mimetype": "text/x-python",
   "name": "python",
   "nbconvert_exporter": "python",
   "pygments_lexer": "ipython3",
   "version": "3.8.6"
  }
 },
 "nbformat": 4,
 "nbformat_minor": 5
}
