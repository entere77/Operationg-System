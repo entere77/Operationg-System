{
 "cells": [
  {
   "cell_type": "code",
   "execution_count": 23,
   "id": "6fe04c0b",
   "metadata": {},
   "outputs": [
    {
     "data": {
      "text/plain": [
       "[['P1', 10, 5], ['P2', 29, 1], ['P3', 3, 3], ['P4', 7, 4], ['P5', 12, 2]]"
      ]
     },
     "execution_count": 23,
     "metadata": {},
     "output_type": "execute_result"
    }
   ],
   "source": [
    "df_1 = [['P1',10,5],\n",
    "        ['P2',29,1],\n",
    "        ['P3',3,3],\n",
    "        ['P4',7,4],\n",
    "        ['P5',12,2]]\n",
    "df_1"
   ]
  },
  {
   "cell_type": "code",
   "execution_count": 24,
   "id": "c98839ab",
   "metadata": {},
   "outputs": [
    {
     "data": {
      "text/plain": [
       "[['P1', 2, 2], ['P2', 1, 1], ['P3', 8, 4], ['P4', 4, 2], ['P5', 5, 3]]"
      ]
     },
     "execution_count": 24,
     "metadata": {},
     "output_type": "execute_result"
    }
   ],
   "source": [
    "df_2 = [['P1',2,2],\n",
    "        ['P2',1,1],\n",
    "        ['P3',8,4],\n",
    "        ['P4',4,2],\n",
    "        ['P5',5,3]]\n",
    "df_2"
   ]
  },
  {
   "cell_type": "code",
   "execution_count": 25,
   "id": "b53940a4",
   "metadata": {},
   "outputs": [],
   "source": [
    "def findWaitingTime_FCFS(processes, n, bt, wt):\n",
    " \n",
    "    # waiting time for\n",
    "    # first process is 0\n",
    "    wt[0] = 0\n",
    " \n",
    "    # calculating waiting time\n",
    "    for i in range(1, n ):\n",
    "        wt[i] = bt[i - 1] + wt[i - 1]"
   ]
  },
  {
   "cell_type": "code",
   "execution_count": 26,
   "id": "116acd0e",
   "metadata": {},
   "outputs": [],
   "source": [
    "def findTurnAroundTime_FCFS(processes, n, bt, wt, tat):\n",
    "     \n",
    "    # Calculating turnaround time\n",
    "    for i in range(n):\n",
    "        tat[i] = bt[i] + wt[i]"
   ]
  },
  {
   "cell_type": "code",
   "execution_count": 27,
   "id": "a065b186",
   "metadata": {},
   "outputs": [],
   "source": [
    "def findavgTime_FCFS( processes, n, bt):\n",
    " \n",
    "    wt = [0] * n\n",
    "    tat = [0] * n\n",
    "    total_wt = 0\n",
    "    total_tat = 0\n",
    " \n",
    "    # Function to find waiting\n",
    "    # time of all processes\n",
    "    findWaitingTime_FCFS(processes, n, bt, wt)\n",
    " \n",
    "    # Function to find turn around\n",
    "    # time for all processes\n",
    "    findTurnAroundTime_FCFS(processes, n,\n",
    "                       bt, wt, tat)\n",
    " \n",
    "    # Display processes along\n",
    "    # with all details\n",
    "    print( \"Processes Burst time \" +\n",
    "                  \" Waiting time \" +\n",
    "                \" Turn around time\")\n",
    " \n",
    "    # Calculate total waiting time\n",
    "    # and total turn around time\n",
    "    for i in range(n):\n",
    "     \n",
    "        total_wt = total_wt + wt[i]\n",
    "        total_tat = total_tat + tat[i]\n",
    "        print(\" \" + str(i + 1) + \"\\t\\t\" +\n",
    "                    str(bt[i]) + \"\\t \" +\n",
    "                    str(wt[i]) + \"\\t\\t \" +\n",
    "                    str(tat[i]))\n",
    " \n",
    "    print( \"Average waiting time = \"+ str(total_wt / n))\n",
    "    return total_wt/n"
   ]
  },
  {
   "cell_type": "code",
   "execution_count": null,
   "id": "06db7e75",
   "metadata": {},
   "outputs": [],
   "source": []
  },
  {
   "cell_type": "code",
   "execution_count": null,
   "id": "8200041b",
   "metadata": {},
   "outputs": [],
   "source": []
  },
  {
   "cell_type": "code",
   "execution_count": null,
   "id": "5e74395b",
   "metadata": {},
   "outputs": [],
   "source": []
  },
  {
   "cell_type": "code",
   "execution_count": 28,
   "id": "d08ee91e",
   "metadata": {},
   "outputs": [],
   "source": [
    "def findWaitingTime_RR(processes, n, bt, wt, quantum):\n",
    "    rem_bt = [0] * n\n",
    " \n",
    "    # Copy the burst time into rt[]\n",
    "    for i in range(n):\n",
    "        rem_bt[i] = bt[i]\n",
    "    t = 0 # Current time\n",
    "\n",
    "    while(1):\n",
    "        done = True\n",
    "        \n",
    "        for i in range(n):\n",
    "\n",
    "            if (rem_bt[i] > 0) :\n",
    "                done = False # There is a pending process\n",
    "                 \n",
    "                if (rem_bt[i] > quantum) :\n",
    "\n",
    "                    t += quantum\n",
    "\n",
    "                    rem_bt[i] -= quantum\n",
    "                 \n",
    "                else:\n",
    "                    t = t + rem_bt[i]\n",
    "                    \n",
    "                    wt[i] = t - bt[i]\n",
    "                    \n",
    "                    rem_bt[i] = 0\n",
    "                 \n",
    "        # If all processes are done\n",
    "        if (done == True):\n",
    "            break"
   ]
  },
  {
   "cell_type": "code",
   "execution_count": 29,
   "id": "d2a9cd7e",
   "metadata": {},
   "outputs": [],
   "source": [
    "def findTurnAroundTime_RR(processes, n, bt, wt, tat):\n",
    "     \n",
    "    # Calculating turnaround time\n",
    "    for i in range(n):\n",
    "        tat[i] = bt[i] + wt[i]"
   ]
  },
  {
   "cell_type": "code",
   "execution_count": 47,
   "id": "2ddafa46",
   "metadata": {},
   "outputs": [],
   "source": [
    "# Function to calculate average waiting\n",
    "# and turn-around times.\n",
    "def findavgTime_RR(processes, n, bt, quantum):\n",
    "    wt = [0] * n\n",
    "    tat = [0] * n\n",
    " \n",
    "    # Function to find waiting time\n",
    "    # of all processes\n",
    "    findWaitingTime_RR(processes, n, bt,\n",
    "                         wt, quantum)\n",
    " \n",
    "    # Function to find turn around time\n",
    "    # for all processes\n",
    "    findTurnAroundTime_RR(processes, n, bt,\n",
    "                                wt, tat)\n",
    " \n",
    "    # Display processes along with all details\n",
    "    print(\"Processes    Burst Time     Waiting\",\n",
    "                     \"Time    Turn-Around Time\")\n",
    "    total_wt = 0\n",
    "    total_tat = 0\n",
    "    for i in range(n):\n",
    " \n",
    "        total_wt = total_wt + wt[i]\n",
    "        total_tat = total_tat + tat[i]\n",
    "        print(\" \", processes[i], \"\\t\\t\", bt[i],\n",
    "              \"\\t\\t\", wt[i], \"\\t\\t\", tat[i])   # processes[i]로 고침, i+1에서\n",
    " \n",
    "    print(\"\\nAverage waiting time = %.5f \"%(total_wt /n) )\n",
    "    return total_wt / n"
   ]
  },
  {
   "cell_type": "code",
   "execution_count": null,
   "id": "69154544",
   "metadata": {},
   "outputs": [],
   "source": []
  },
  {
   "cell_type": "code",
   "execution_count": null,
   "id": "3c48c827",
   "metadata": {},
   "outputs": [],
   "source": []
  },
  {
   "cell_type": "code",
   "execution_count": null,
   "id": "152af837",
   "metadata": {},
   "outputs": [],
   "source": []
  },
  {
   "cell_type": "code",
   "execution_count": null,
   "id": "2cc4c9ca",
   "metadata": {},
   "outputs": [],
   "source": [
    "# Priority 알고리즘\n",
    "def priority(df) :\n",
    "    \n",
    "    d = dict()\n",
    "\n",
    "    for i in range(5):\n",
    "        key = df_1[i][0]\n",
    "        l = list()\n",
    "        l.append(df_1[i][1])\n",
    "        l.append(df_1[i][2])\n",
    "        d[key] = l\n",
    "        \n",
    "    d = sorted(d.items(), key=lambda item: item[1][1])\n",
    "        \n",
    "\n",
    "    ET = []\n",
    "    for i in range(len(d)):\n",
    "        # first process\n",
    "        if(i==0):\n",
    "            ET.append(d[i][1][0])\n",
    "\n",
    "        # get prevET + newBT\n",
    "        else:\n",
    "            ET.append(ET[i-1] + d[i][1][0])\n",
    "            \n",
    "            \n",
    "    # TAT는 Turn Around time\n",
    "    TAT = []\n",
    "    for i in range(len(d)):\n",
    "        TAT.append(ET[i]) # arrival time이 없기 때문에, Turn Around Time은 Exit time이 된다.\n",
    "        \n",
    "        \n",
    "        \n",
    "    # WT는 Wait time\n",
    "    WT = []\n",
    "    for i in range(len(d)):\n",
    "        WT.append(TAT[i] - d[i][1][0]) # d[i][1][0] 은 버스트 시간을 의미한다.\n",
    "        \n",
    "        \n",
    "    # 평균 Wait time 구하기\n",
    "    avg_WT = 0\n",
    "    for i in WT:\n",
    "        avg_WT +=i\n",
    "    avg_WT = (avg_WT/5)\n",
    "    \n",
    "    \n",
    "    # 출력\n",
    "    print(\"Process | Priority | Burst | Exit | Turn Around | Wait |\")\n",
    "    for i in range(5):\n",
    "          print(\"   \",d[i][0],\"   |   \",d[i][1][1],\" |    \",d[i][1][0],\" |    \",ET[i],\"  |    \",TAT[i],\"  |   \",WT[i],\"   |  \")\n",
    "    print(\"Average Waiting Time: \",avg_WT)"
   ]
  },
  {
   "cell_type": "code",
   "execution_count": null,
   "id": "12409db3",
   "metadata": {},
   "outputs": [],
   "source": []
  },
  {
   "cell_type": "code",
   "execution_count": null,
   "id": "83178bff",
   "metadata": {},
   "outputs": [],
   "source": []
  },
  {
   "cell_type": "code",
   "execution_count": null,
   "id": "9b22487c",
   "metadata": {},
   "outputs": [],
   "source": []
  },
  {
   "cell_type": "code",
   "execution_count": 48,
   "id": "3674c2e1",
   "metadata": {},
   "outputs": [
    {
     "name": "stdout",
     "output_type": "stream",
     "text": [
      "1번 프로세스 집합 FCFS\n",
      "Processes Burst time  Waiting time  Turn around time\n",
      " 1\t\t10\t 0\t\t 10\n",
      " 2\t\t29\t 10\t\t 39\n",
      " 3\t\t3\t 39\t\t 42\n",
      " 4\t\t7\t 42\t\t 49\n",
      " 5\t\t12\t 49\t\t 61\n",
      "Average waiting time = 28.0\n",
      "\n",
      "\n",
      "2번 프로세스 집합 FCFS\n",
      "Processes Burst time  Waiting time  Turn around time\n",
      " 1\t\t2\t 0\t\t 2\n",
      " 2\t\t1\t 2\t\t 3\n",
      " 3\t\t8\t 3\t\t 11\n",
      " 4\t\t4\t 11\t\t 15\n",
      " 5\t\t5\t 15\t\t 20\n",
      "Average waiting time = 6.2\n",
      "\n",
      "\n",
      "\n",
      "\n",
      "1번 프로세스 집합 RR\n",
      "Processes    Burst Time     Waiting Time    Turn-Around Time\n",
      "  P1 \t\t 10 \t\t 26 \t\t 36\n",
      "  P2 \t\t 29 \t\t 32 \t\t 61\n",
      "  P3 \t\t 3 \t\t 12 \t\t 15\n",
      "  P4 \t\t 7 \t\t 25 \t\t 32\n",
      "  P5 \t\t 12 \t\t 32 \t\t 44\n",
      "\n",
      "Average waiting time = 25.40000 \n",
      "\n",
      "\n",
      "2번 프로세스 집합 RR\n",
      "Processes    Burst Time     Waiting Time    Turn-Around Time\n",
      "  P1 \t\t 2 \t\t 0 \t\t 2\n",
      "  P2 \t\t 1 \t\t 2 \t\t 3\n",
      "  P3 \t\t 8 \t\t 12 \t\t 20\n",
      "  P4 \t\t 4 \t\t 9 \t\t 13\n",
      "  P5 \t\t 5 \t\t 13 \t\t 18\n",
      "\n",
      "Average waiting time = 7.20000 \n"
     ]
    }
   ],
   "source": [
    "# Driver code\n",
    "if __name__ ==\"__main__\":\n",
    "     \n",
    "    # Process id's\n",
    "    proc1 = list()\n",
    "    proc2 = list()\n",
    "    for i in range(5):\n",
    "        proc1.append(df_1[i][0])\n",
    "        proc2.append(df_2[i][0])\n",
    " \n",
    "    # Burst time of all processes\n",
    "    burst_time1 = list()\n",
    "    burst_time2 = list()\n",
    "    for i in range(5):\n",
    "        burst_time1.append(df_1[i][1])\n",
    "        burst_time2.append(df_2[i][1])\n",
    " \n",
    "    \n",
    "    print(\"1번 프로세스 집합 FCFS\")\n",
    "    proc1_FCFS_wt = findavgTime_FCFS(proc1, 5, burst_time1)\n",
    "    print('\\n')\n",
    "    print(\"2번 프로세스 집합 FCFS\")\n",
    "    proc2_FCFS_wt = findavgTime_FCFS(proc2, 5, burst_time2)\n",
    "    print('\\n')\n",
    "    print('\\n')\n",
    "    \n",
    "    \n",
    "    # Time quantum\n",
    "    quantum = 2;\n",
    "    print(\"1번 프로세스 집합 RR\")\n",
    "    proc1_RR_wt = findavgTime_RR(proc1, 5, burst_time1, quantum)\n",
    "    print('\\n')\n",
    "    print(\"2번 프로세스 집합 RR\")\n",
    "    proc2_RR_wt = findavgTime_RR(proc2, 5, burst_time2, quantum)"
   ]
  },
  {
   "cell_type": "code",
   "execution_count": null,
   "id": "6f18aac3",
   "metadata": {},
   "outputs": [],
   "source": []
  },
  {
   "cell_type": "code",
   "execution_count": null,
   "id": "0ad0b5c6",
   "metadata": {},
   "outputs": [],
   "source": []
  },
  {
   "cell_type": "code",
   "execution_count": null,
   "id": "d2fd919e",
   "metadata": {},
   "outputs": [],
   "source": []
  },
  {
   "cell_type": "code",
   "execution_count": 42,
   "id": "99f33844",
   "metadata": {},
   "outputs": [
    {
     "data": {
      "text/plain": [
       "28.0"
      ]
     },
     "execution_count": 42,
     "metadata": {},
     "output_type": "execute_result"
    }
   ],
   "source": [
    "proc1_FCFS_wt"
   ]
  },
  {
   "cell_type": "code",
   "execution_count": 50,
   "id": "85b9b4b5",
   "metadata": {},
   "outputs": [
    {
     "data": {
      "text/plain": [
       "25.4"
      ]
     },
     "execution_count": 50,
     "metadata": {},
     "output_type": "execute_result"
    }
   ],
   "source": [
    "proc1_RR_wt"
   ]
  },
  {
   "cell_type": "code",
   "execution_count": null,
   "id": "f4d958dc",
   "metadata": {},
   "outputs": [],
   "source": []
  },
  {
   "cell_type": "code",
   "execution_count": null,
   "id": "07e75478",
   "metadata": {},
   "outputs": [],
   "source": []
  },
  {
   "cell_type": "code",
   "execution_count": null,
   "id": "401c6bd4",
   "metadata": {},
   "outputs": [],
   "source": []
  },
  {
   "cell_type": "code",
   "execution_count": 61,
   "id": "2ab5244b",
   "metadata": {},
   "outputs": [
    {
     "data": {
      "text/html": [
       "<div>\n",
       "<style scoped>\n",
       "    .dataframe tbody tr th:only-of-type {\n",
       "        vertical-align: middle;\n",
       "    }\n",
       "\n",
       "    .dataframe tbody tr th {\n",
       "        vertical-align: top;\n",
       "    }\n",
       "\n",
       "    .dataframe thead th {\n",
       "        text-align: right;\n",
       "    }\n",
       "</style>\n",
       "<table border=\"1\" class=\"dataframe\">\n",
       "  <thead>\n",
       "    <tr style=\"text-align: right;\">\n",
       "      <th></th>\n",
       "      <th>스케줄링 알고리즘</th>\n",
       "      <th>평균 대기 시간</th>\n",
       "    </tr>\n",
       "  </thead>\n",
       "  <tbody>\n",
       "    <tr>\n",
       "      <th>0</th>\n",
       "      <td>FCFS</td>\n",
       "      <td>28.0</td>\n",
       "    </tr>\n",
       "    <tr>\n",
       "      <th>1</th>\n",
       "      <td>RR</td>\n",
       "      <td>25.4</td>\n",
       "    </tr>\n",
       "  </tbody>\n",
       "</table>\n",
       "</div>"
      ],
      "text/plain": [
       "  스케줄링 알고리즘  평균 대기 시간\n",
       "0      FCFS      28.0\n",
       "1        RR      25.4"
      ]
     },
     "execution_count": 61,
     "metadata": {},
     "output_type": "execute_result"
    }
   ],
   "source": [
    "import pandas as pd\n",
    "import matplotlib.pyplot as plt\n",
    "\n",
    "data={'스케줄링 알고리즘': ['FCFS','RR'], '평균 대기 시간': [proc1_FCFS_wt, proc1_RR_wt] }\n",
    "df = pd.DataFrame(data)\n",
    "df"
   ]
  },
  {
   "cell_type": "code",
   "execution_count": 63,
   "id": "e501317d",
   "metadata": {},
   "outputs": [
    {
     "data": {
      "text/plain": [
       "0    28.0\n",
       "1    25.4\n",
       "Name: 평균 대기 시간, dtype: float64"
      ]
     },
     "execution_count": 63,
     "metadata": {},
     "output_type": "execute_result"
    }
   ],
   "source": [
    "df['평균 대기 시간']"
   ]
  },
  {
   "cell_type": "code",
   "execution_count": 54,
   "id": "e240ccd0",
   "metadata": {},
   "outputs": [],
   "source": [
    "from matplotlib import font_manager, rc\n",
    "\n",
    "font_path = \"C:/Windows/Fonts/gulim.ttc\"\n",
    "font = font_manager.FontProperties(fname=font_path).get_name()\n",
    "rc('font', family=font)"
   ]
  },
  {
   "cell_type": "code",
   "execution_count": 72,
   "id": "6ba7d137",
   "metadata": {
    "scrolled": true
   },
   "outputs": [
    {
     "data": {
      "image/png": "[encoded data removed]",
      "text/plain": [
       "<Figure size 640x480 with 1 Axes>"
      ]
     },
     "metadata": {},
     "output_type": "display_data"
    }
   ],
   "source": [
    "plt.title('1번 프로세스 집합의 알고리즘 별 평균 waiting time')\n",
    "plt.bar(df['스케줄링 알고리즘'], df['평균 대기 시간'], width=0.4)\n",
    "plt.xlabel('스케줄링 알고리즘')\n",
    "plt.ylabel('Waiting time')\n",
    "\n",
    "plt.show()"
   ]
  },
  {
   "cell_type": "code",
   "execution_count": 73,
   "id": "642b85b7",
   "metadata": {},
   "outputs": [
    {
     "data": {
      "text/html": [
       "<div>\n",
       "<style scoped>\n",
       "    .dataframe tbody tr th:only-of-type {\n",
       "        vertical-align: middle;\n",
       "    }\n",
       "\n",
       "    .dataframe tbody tr th {\n",
       "        vertical-align: top;\n",
       "    }\n",
       "\n",
       "    .dataframe thead th {\n",
       "        text-align: right;\n",
       "    }\n",
       "</style>\n",
       "<table border=\"1\" class=\"dataframe\">\n",
       "  <thead>\n",
       "    <tr style=\"text-align: right;\">\n",
       "      <th></th>\n",
       "      <th>스케줄링 알고리즘</th>\n",
       "      <th>평균 대기 시간</th>\n",
       "    </tr>\n",
       "  </thead>\n",
       "  <tbody>\n",
       "    <tr>\n",
       "      <th>0</th>\n",
       "      <td>FCFS</td>\n",
       "      <td>6.2</td>\n",
       "    </tr>\n",
       "    <tr>\n",
       "      <th>1</th>\n",
       "      <td>RR</td>\n",
       "      <td>7.2</td>\n",
       "    </tr>\n",
       "  </tbody>\n",
       "</table>\n",
       "</div>"
      ],
      "text/plain": [
       "  스케줄링 알고리즘  평균 대기 시간\n",
       "0      FCFS       6.2\n",
       "1        RR       7.2"
      ]
     },
     "execution_count": 73,
     "metadata": {},
     "output_type": "execute_result"
    }
   ],
   "source": [
    "data={'스케줄링 알고리즘': ['FCFS','RR'], '평균 대기 시간': [proc2_FCFS_wt, proc2_RR_wt] }\n",
    "df = pd.DataFrame(data)\n",
    "df"
   ]
  },
  {
   "cell_type": "code",
   "execution_count": 74,
   "id": "363e43df",
   "metadata": {},
   "outputs": [
    {
     "data": {
      "image/png": "[encoded data removed]",
      "text/plain": [
       "<Figure size 640x480 with 1 Axes>"
      ]
     },
     "metadata": {},
     "output_type": "display_data"
    }
   ],
   "source": [
    "plt.title('2번 프로세스 집합의 알고리즘 별 평균 waiting time')\n",
    "plt.bar(df['스케줄링 알고리즘'], df['평균 대기 시간'], width=0.4)\n",
    "plt.xlabel('스케줄링 알고리즘')\n",
    "plt.ylabel('Waiting time')\n",
    "\n",
    "plt.show()"
   ]
  },
  {
   "cell_type": "code",
   "execution_count": null,
   "id": "aea46838",
   "metadata": {},
   "outputs": [],
   "source": []
  },
  {
   "cell_type": "code",
   "execution_count": null,
   "id": "3780e26a",
   "metadata": {},
   "outputs": [],
   "source": []
  }
 ],
 "metadata": {
  "kernelspec": {
   "display_name": "Python 3 (ipykernel)",
   "language": "python",
   "name": "python3"
  },
  "language_info": {
   "codemirror_mode": {
    "name": "ipython",
    "version": 3
   },
   "file_extension": ".py",
   "mimetype": "text/x-python",
   "name": "python",
   "nbconvert_exporter": "python",
   "pygments_lexer": "ipython3",
   "version": "3.8.6"
  }
 },
 "nbformat": 4,
 "nbformat_minor": 5
}
