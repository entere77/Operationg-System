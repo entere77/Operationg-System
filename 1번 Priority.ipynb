{
 "cells": [
  {
   "cell_type": "code",
   "execution_count": 10,
   "id": "cf0989ac",
   "metadata": {},
   "outputs": [
    {
     "data": {
      "text/plain": [
       "[['P1', 10, 5], ['P2', 29, 1], ['P3', 3, 3], ['P4', 7, 4], ['P5', 12, 2]]"
      ]
     },
     "execution_count": 10,
     "metadata": {},
     "output_type": "execute_result"
    }
   ],
   "source": [
    "df_1 = [['P1',10,5],\n",
    "        ['P2',29,1],\n",
    "        ['P3',3,3],\n",
    "        ['P4',7,4],\n",
    "        ['P5',12,2]]\n",
    "df_1"
   ]
  },
  {
   "cell_type": "code",
   "execution_count": 7,
   "id": "18390471",
   "metadata": {},
   "outputs": [],
   "source": [
    "d = dict()\n",
    "\n",
    "for i in range(5):\n",
    "    key = df_1[i][0]\n",
    "    l = list()\n",
    "    l.append(df_1[i][1])\n",
    "    l.append(df_1[i][2])\n",
    "    d[key] = l"
   ]
  },
  {
   "cell_type": "code",
   "execution_count": 8,
   "id": "9b17e972",
   "metadata": {},
   "outputs": [],
   "source": [
    "d = sorted(d.items(), key=lambda item: item[1][1])"
   ]
  },
  {
   "cell_type": "code",
   "execution_count": 9,
   "id": "7b7f7c1d",
   "metadata": {},
   "outputs": [
    {
     "data": {
      "text/plain": [
       "[('P2', [29, 1]),\n",
       " ('P5', [12, 2]),\n",
       " ('P3', [3, 3]),\n",
       " ('P4', [7, 4]),\n",
       " ('P1', [10, 5])]"
      ]
     },
     "execution_count": 9,
     "metadata": {},
     "output_type": "execute_result"
    }
   ],
   "source": [
    "d"
   ]
  },
  {
   "cell_type": "code",
   "execution_count": 18,
   "id": "ad38a6bb",
   "metadata": {},
   "outputs": [
    {
     "data": {
      "text/plain": [
       "29"
      ]
     },
     "execution_count": 18,
     "metadata": {},
     "output_type": "execute_result"
    }
   ],
   "source": [
    "d[0][1][0]"
   ]
  },
  {
   "cell_type": "code",
   "execution_count": 19,
   "id": "31ae9e70",
   "metadata": {},
   "outputs": [],
   "source": [
    "ET = []\n",
    "for i in range(len(d)):\n",
    "    # first process\n",
    "    if(i==0):\n",
    "        ET.append(d[i][1][0])\n",
    "        \n",
    "    # get prevET + newBT\n",
    "    else:\n",
    "        ET.append(ET[i-1] + d[i][1][0])"
   ]
  },
  {
   "cell_type": "code",
   "execution_count": 20,
   "id": "e84915c2",
   "metadata": {},
   "outputs": [
    {
     "data": {
      "text/plain": [
       "[29, 41, 44, 51, 61]"
      ]
     },
     "execution_count": 20,
     "metadata": {},
     "output_type": "execute_result"
    }
   ],
   "source": [
    "ET"
   ]
  },
  {
   "cell_type": "code",
   "execution_count": 29,
   "id": "4b2dff4a",
   "metadata": {},
   "outputs": [],
   "source": [
    "# TAT는 Turn Around time\n",
    "\n",
    "TAT = []\n",
    "for i in range(len(d)):\n",
    "    TAT.append(ET[i]) # arrival time이 없기 때문에, Turn Around Time은 Exit time이 된다."
   ]
  },
  {
   "cell_type": "code",
   "execution_count": 30,
   "id": "a2f0de53",
   "metadata": {},
   "outputs": [],
   "source": [
    "# WT는 Wait time\n",
    "\n",
    "WT = []\n",
    "for i in range(len(d)):\n",
    "    WT.append(TAT[i] - d[i][1][0]) # d[i][1][0] 은 버스트 시간을 의미한다."
   ]
  },
  {
   "cell_type": "code",
   "execution_count": 31,
   "id": "ffdf4a64",
   "metadata": {},
   "outputs": [],
   "source": [
    "# 평균 Wait time 구하기\n",
    "\n",
    "avg_WT = 0\n",
    "for i in WT:\n",
    "    avg_WT +=i\n",
    "avg_WT = (avg_WT/5)"
   ]
  },
  {
   "cell_type": "code",
   "execution_count": 28,
   "id": "4a2e2ea1",
   "metadata": {},
   "outputs": [
    {
     "name": "stdout",
     "output_type": "stream",
     "text": [
      "Process | Priority | Burst | Exit | Turn Around | Wait |\n",
      "    P2    |    1  |     29  |     29   |     29   |    0    |  \n",
      "    P5    |    2  |     12  |     41   |     41   |    29    |  \n",
      "    P3    |    3  |     3  |     44   |     44   |    41    |  \n",
      "    P4    |    4  |     7  |     51   |     51   |    44    |  \n",
      "    P1    |    5  |     10  |     61   |     61   |    51    |  \n",
      "Average Waiting Time:  33.0\n"
     ]
    }
   ],
   "source": [
    "# 출력\n",
    "\n",
    "print(\"Process | Priority | Burst | Exit | Turn Around | Wait |\")\n",
    "for i in range(5):\n",
    "      print(\"   \",d[i][0],\"   |   \",d[i][1][1],\" |    \",d[i][1][0],\" |    \",ET[i],\"  |    \",TAT[i],\"  |   \",WT[i],\"   |  \")\n",
    "print(\"Average Waiting Time: \",avg_WT)"
   ]
  },
  {
   "cell_type": "code",
   "execution_count": null,
   "id": "eced39bb",
   "metadata": {},
   "outputs": [],
   "source": []
  },
  {
   "cell_type": "code",
   "execution_count": 11,
   "id": "7a332bd2",
   "metadata": {},
   "outputs": [],
   "source": [
    "def priority(df) :\n",
    "    \n",
    "    d = dict()\n",
    "\n",
    "    for i in range(5):\n",
    "        key = df_1[i][0]\n",
    "        l = list()\n",
    "        l.append(df_1[i][1])\n",
    "        l.append(df_1[i][2])\n",
    "        d[key] = l\n",
    "        \n",
    "    d = sorted(d.items(), key=lambda item: item[1][1])\n",
    "        \n",
    "\n",
    "    ET = []\n",
    "    for i in range(len(d)):\n",
    "        # first process\n",
    "        if(i==0):\n",
    "            ET.append(d[i][1][0])\n",
    "\n",
    "        # get prevET + newBT\n",
    "        else:\n",
    "            ET.append(ET[i-1] + d[i][1][0])\n",
    "            \n",
    "            \n",
    "    # TAT는 Turn Around time\n",
    "    TAT = []\n",
    "    for i in range(len(d)):\n",
    "        TAT.append(ET[i]) # arrival time이 없기 때문에, Turn Around Time은 Exit time이 된다.\n",
    "        \n",
    "        \n",
    "        \n",
    "    # WT는 Wait time\n",
    "    WT = []\n",
    "    for i in range(len(d)):\n",
    "        WT.append(TAT[i] - d[i][1][0]) # d[i][1][0] 은 버스트 시간을 의미한다.\n",
    "        \n",
    "        \n",
    "    # 평균 Wait time 구하기\n",
    "    avg_WT = 0\n",
    "    for i in WT:\n",
    "        avg_WT +=i\n",
    "    avg_WT = (avg_WT/5)\n",
    "    \n",
    "    \n",
    "    # 출력\n",
    "    print(\"Process | Priority | Burst | Exit | Turn Around | Wait |\")\n",
    "    for i in range(5):\n",
    "          print(\"   \",d[i][0],\"   |   \",d[i][1][1],\" |    \",d[i][1][0],\" |    \",ET[i],\"  |    \",TAT[i],\"  |   \",WT[i],\"   |  \")\n",
    "    print(\"Average Waiting Time: \",avg_WT)"
   ]
  },
  {
   "cell_type": "code",
   "execution_count": 12,
   "id": "09720bcd",
   "metadata": {},
   "outputs": [
    {
     "name": "stdout",
     "output_type": "stream",
     "text": [
      "Process | Priority | Burst | Exit | Turn Around | Wait |\n",
      "    P2    |    1  |     29  |     29   |     29   |    0    |  \n",
      "    P5    |    2  |     12  |     41   |     41   |    29    |  \n",
      "    P3    |    3  |     3  |     44   |     44   |    41    |  \n",
      "    P4    |    4  |     7  |     51   |     51   |    44    |  \n",
      "    P1    |    5  |     10  |     61   |     61   |    51    |  \n",
      "Average Waiting Time:  33.0\n"
     ]
    }
   ],
   "source": [
    "if __name__ ==\"__main__\":\n",
    "    priority(df_1)"
   ]
  },
  {
   "cell_type": "code",
   "execution_count": null,
   "id": "5af0290c",
   "metadata": {},
   "outputs": [],
   "source": []
  },
  {
   "cell_type": "code",
   "execution_count": null,
   "id": "ea4ceb78",
   "metadata": {},
   "outputs": [],
   "source": []
  },
  {
   "cell_type": "code",
   "execution_count": null,
   "id": "e78c0255",
   "metadata": {},
   "outputs": [],
   "source": []
  },
  {
   "cell_type": "code",
   "execution_count": null,
   "id": "67105ad8",
   "metadata": {},
   "outputs": [],
   "source": []
  },
  {
   "cell_type": "code",
   "execution_count": null,
   "id": "9c1aa4ff",
   "metadata": {},
   "outputs": [],
   "source": []
  },
  {
   "cell_type": "code",
   "execution_count": null,
   "id": "1abd9a90",
   "metadata": {},
   "outputs": [],
   "source": []
  },
  {
   "cell_type": "code",
   "execution_count": null,
   "id": "c3b260dd",
   "metadata": {},
   "outputs": [],
   "source": []
  },
  {
   "cell_type": "code",
   "execution_count": null,
   "id": "d562eaa5",
   "metadata": {},
   "outputs": [],
   "source": []
  }
 ],
 "metadata": {
  "kernelspec": {
   "display_name": "Python 3 (ipykernel)",
   "language": "python",
   "name": "python3"
  },
  "language_info": {
   "codemirror_mode": {
    "name": "ipython",
    "version": 3
   },
   "file_extension": ".py",
   "mimetype": "text/x-python",
   "name": "python",
   "nbconvert_exporter": "python",
   "pygments_lexer": "ipython3",
   "version": "3.8.6"
  }
 },
 "nbformat": 4,
 "nbformat_minor": 5
}
