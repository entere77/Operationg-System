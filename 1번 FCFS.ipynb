{
 "cells": [
  {
   "cell_type": "code",
   "execution_count": 1,
   "id": "1eba7c0e",
   "metadata": {},
   "outputs": [
    {
     "data": {
      "text/plain": [
       "[['P1', 10], ['P2', 29], ['P3', 3], ['P4', 7], ['P5', 12]]"
      ]
     },
     "execution_count": 1,
     "metadata": {},
     "output_type": "execute_result"
    }
   ],
   "source": [
    "df_1 = [['P1',10],\n",
    "        ['P2',29],\n",
    "        ['P3',3],\n",
    "        ['P4',7],\n",
    "        ['P5',12]]\n",
    "df_1"
   ]
  },
  {
   "cell_type": "code",
   "execution_count": 4,
   "id": "16b0aafb",
   "metadata": {},
   "outputs": [],
   "source": [
    "ET = []\n",
    "for i in range(len(df_1)):\n",
    "    # first process\n",
    "    if(i==0):\n",
    "        ET.append(df_1[i][1])\n",
    "        \n",
    "    # get prevET + newBT\n",
    "    else:\n",
    "        ET.append(ET[i-1] + df_1[i][1])"
   ]
  },
  {
   "cell_type": "code",
   "execution_count": 5,
   "id": "8276a15b",
   "metadata": {},
   "outputs": [],
   "source": [
    "# TAT는 Turn Around time\n",
    "\n",
    "TAT = []\n",
    "for i in range(len(df_1)):\n",
    "    TAT.append(ET[i]) # arrival time이 없기 때문에, Turn Around Time은 Exit time이 된다."
   ]
  },
  {
   "cell_type": "code",
   "execution_count": 6,
   "id": "97c7d5a2",
   "metadata": {},
   "outputs": [],
   "source": [
    "# WT는 Wait time\n",
    "\n",
    "WT = []\n",
    "for i in range(len(df_1)):\n",
    "    WT.append(TAT[i] - df_1[i][1]) # d[i][1][0] 은 버스트 시간을 의미한다."
   ]
  },
  {
   "cell_type": "code",
   "execution_count": 7,
   "id": "7cdb7832",
   "metadata": {},
   "outputs": [],
   "source": [
    "# 평균 Wait time 구하기\n",
    "\n",
    "avg_WT = 0\n",
    "for i in WT:\n",
    "    avg_WT +=i\n",
    "avg_WT = (avg_WT/5)"
   ]
  },
  {
   "cell_type": "code",
   "execution_count": 8,
   "id": "ef5ac26a",
   "metadata": {},
   "outputs": [
    {
     "name": "stdout",
     "output_type": "stream",
     "text": [
      "Process | Burst | Exit | Turn Around | Wait |\n",
      "    P1    |  10  |     10   |     10   |    0    |  \n",
      "    P2    |  29  |     39   |     39   |    10    |  \n",
      "    P3    |  3  |     42   |     42   |    39    |  \n",
      "    P4    |  7  |     49   |     49   |    42    |  \n",
      "    P5    |  12  |     61   |     61   |    49    |  \n",
      "Average Waiting Time:  28.0\n"
     ]
    }
   ],
   "source": [
    "# 출력\n",
    "\n",
    "print(\"Process | Burst | Exit | Turn Around | Wait |\")\n",
    "for i in range(5):\n",
    "      print(\"   \",df_1[i][0],\"   | \",df_1[i][1],\" |    \",ET[i],\"  |    \",TAT[i],\"  |   \",WT[i],\"   |  \")\n",
    "print(\"Average Waiting Time: \",avg_WT)"
   ]
  },
  {
   "cell_type": "code",
   "execution_count": null,
   "id": "524a7d60",
   "metadata": {},
   "outputs": [],
   "source": []
  },
  {
   "cell_type": "code",
   "execution_count": null,
   "id": "3a91b0fe",
   "metadata": {},
   "outputs": [],
   "source": []
  },
  {
   "cell_type": "code",
   "execution_count": null,
   "id": "c718c23d",
   "metadata": {},
   "outputs": [],
   "source": [
    "def FCFS(df):\n",
    "    ET = []\n",
    "    for i in range(len(df_1)):\n",
    "        # first process\n",
    "        if(i==0):\n",
    "            ET.append(df_1[i][1])\n",
    "\n",
    "        # get prevET + newBT\n",
    "        else:\n",
    "            ET.append(ET[i-1] + df_1[i][1])\n",
    "            \n",
    "        \n",
    "        \n",
    "    # TAT는 Turn Around time\n",
    "    TAT = []\n",
    "    for i in range(len(df_1)):\n",
    "        TAT.append(ET[i]) # arrival time이 없기 때문에, Turn Around Time은 Exit time이 된다.       \n",
    "        \n",
    "        \n",
    "    # WT는 Wait time\n",
    "    WT = []\n",
    "    for i in range(len(df_1)):\n",
    "        WT.append(TAT[i] - df_1[i][1]) # d[i][1][0] 은 버스트 시간을 의미한다.        \n",
    "        \n",
    "        \n",
    "        \n",
    "    # 평균 Wait time 구하기\n",
    "    avg_WT = 0\n",
    "    for i in WT:\n",
    "        avg_WT +=i\n",
    "    avg_WT = (avg_WT/5)\n",
    "    \n",
    "    \n",
    "    # 출력\n",
    "    print(\"Process | Burst | Exit | Turn Around | Wait |\")\n",
    "    for i in range(5):\n",
    "          print(\"   \",df_1[i][0],\"   | \",df_1[i][1],\" |    \",ET[i],\"  |    \",TAT[i],\"  |   \",WT[i],\"   |  \")\n",
    "    print(\"Average Waiting Time: \",avg_WT)"
   ]
  },
  {
   "cell_type": "code",
   "execution_count": null,
   "id": "75e05b2c",
   "metadata": {},
   "outputs": [],
   "source": []
  }
 ],
 "metadata": {
  "kernelspec": {
   "display_name": "Python 3 (ipykernel)",
   "language": "python",
   "name": "python3"
  },
  "language_info": {
   "codemirror_mode": {
    "name": "ipython",
    "version": 3
   },
   "file_extension": ".py",
   "mimetype": "text/x-python",
   "name": "python",
   "nbconvert_exporter": "python",
   "pygments_lexer": "ipython3",
   "version": "3.8.6"
  }
 },
 "nbformat": 4,
 "nbformat_minor": 5
}
