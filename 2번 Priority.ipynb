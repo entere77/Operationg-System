{
 "cells": [
  {
   "cell_type": "code",
   "execution_count": 3,
   "id": "aa2aaf7a",
   "metadata": {},
   "outputs": [
    {
     "data": {
      "text/plain": [
       "[['P1', 2, 2], ['P2', 1, 1], ['P3', 8, 4], ['P4', 4, 2], ['P5', 5, 3]]"
      ]
     },
     "execution_count": 3,
     "metadata": {},
     "output_type": "execute_result"
    }
   ],
   "source": [
    "df_2 = [['P1',2,2],\n",
    "        ['P2',1,1],\n",
    "        ['P3',8,4],\n",
    "        ['P4',4,2],\n",
    "        ['P5',5,3]]\n",
    "df_2"
   ]
  },
  {
   "cell_type": "code",
   "execution_count": 4,
   "id": "d9e76de0",
   "metadata": {},
   "outputs": [],
   "source": [
    "d = dict()\n",
    "\n",
    "for i in range(5):\n",
    "    key = df_2[i][0]\n",
    "    l = list()\n",
    "    l.append(df_2[i][1])\n",
    "    l.append(df_2[i][2])\n",
    "    d[key] = l"
   ]
  },
  {
   "cell_type": "code",
   "execution_count": 5,
   "id": "2624e4fb",
   "metadata": {},
   "outputs": [],
   "source": [
    "d = sorted(d.items(), key=lambda item: item[1][1])"
   ]
  },
  {
   "cell_type": "code",
   "execution_count": 6,
   "id": "baa74618",
   "metadata": {},
   "outputs": [
    {
     "data": {
      "text/plain": [
       "[('P2', [1, 1]),\n",
       " ('P1', [2, 2]),\n",
       " ('P4', [4, 2]),\n",
       " ('P5', [5, 3]),\n",
       " ('P3', [8, 4])]"
      ]
     },
     "execution_count": 6,
     "metadata": {},
     "output_type": "execute_result"
    }
   ],
   "source": [
    "# 우선순위가 같을 때, 버스트 시간이 작은 프로세스부터 CPU할당을 진행.\n",
    "\n",
    "d"
   ]
  },
  {
   "cell_type": "code",
   "execution_count": 7,
   "id": "833a4f08",
   "metadata": {},
   "outputs": [],
   "source": [
    "ET = []\n",
    "for i in range(len(d)):\n",
    "    # first process\n",
    "    if(i==0):\n",
    "        ET.append(d[i][1][0])\n",
    "        \n",
    "    # get prevET + newBT\n",
    "    else:\n",
    "        ET.append(ET[i-1] + d[i][1][0])"
   ]
  },
  {
   "cell_type": "code",
   "execution_count": 8,
   "id": "f5f5140f",
   "metadata": {},
   "outputs": [],
   "source": [
    "# TAT는 Turn Around time\n",
    "\n",
    "TAT = []\n",
    "for i in range(len(d)):\n",
    "    TAT.append(ET[i]) # arrival time이 없기 때문에, Turn Around Time은 Exit time이 된다."
   ]
  },
  {
   "cell_type": "code",
   "execution_count": 9,
   "id": "9544987f",
   "metadata": {},
   "outputs": [],
   "source": [
    "# WT는 Wait time\n",
    "\n",
    "WT = []\n",
    "for i in range(len(d)):\n",
    "    WT.append(TAT[i] - d[i][1][0]) # d[i][1][0] 은 버스트 시간을 의미한다."
   ]
  },
  {
   "cell_type": "code",
   "execution_count": 10,
   "id": "e38e8b44",
   "metadata": {},
   "outputs": [],
   "source": [
    "# 평균 Wait time 구하기\n",
    "\n",
    "avg_WT = 0\n",
    "for i in WT:\n",
    "    avg_WT +=i\n",
    "avg_WT = (avg_WT/5)"
   ]
  },
  {
   "cell_type": "code",
   "execution_count": 11,
   "id": "efe97266",
   "metadata": {},
   "outputs": [
    {
     "name": "stdout",
     "output_type": "stream",
     "text": [
      "Process | Priority | Burst | Exit | Turn Around | Wait |\n",
      "    P2    |    1  |     1  |     1   |     1   |    0    |  \n",
      "    P1    |    2  |     2  |     3   |     3   |    1    |  \n",
      "    P4    |    2  |     4  |     7   |     7   |    3    |  \n",
      "    P5    |    3  |     5  |     12   |     12   |    7    |  \n",
      "    P3    |    4  |     8  |     20   |     20   |    12    |  \n",
      "Average Waiting Time:  4.6\n"
     ]
    }
   ],
   "source": [
    "# 출력\n",
    "\n",
    "print(\"Process | Priority | Burst | Exit | Turn Around | Wait |\")\n",
    "for i in range(5):\n",
    "      print(\"   \",d[i][0],\"   |   \",d[i][1][1],\" |    \",d[i][1][0],\" |    \",ET[i],\"  |    \",TAT[i],\"  |   \",WT[i],\"   |  \")\n",
    "print(\"Average Waiting Time: \",avg_WT)"
   ]
  },
  {
   "cell_type": "code",
   "execution_count": null,
   "id": "888e0fb8",
   "metadata": {},
   "outputs": [],
   "source": []
  },
  {
   "cell_type": "code",
   "execution_count": null,
   "id": "93beb91d",
   "metadata": {},
   "outputs": [],
   "source": []
  },
  {
   "cell_type": "code",
   "execution_count": null,
   "id": "3e58ed53",
   "metadata": {},
   "outputs": [],
   "source": []
  },
  {
   "cell_type": "code",
   "execution_count": null,
   "id": "f167014f",
   "metadata": {},
   "outputs": [],
   "source": []
  },
  {
   "cell_type": "code",
   "execution_count": null,
   "id": "530ead77",
   "metadata": {},
   "outputs": [],
   "source": []
  }
 ],
 "metadata": {
  "kernelspec": {
   "display_name": "Python 3 (ipykernel)",
   "language": "python",
   "name": "python3"
  },
  "language_info": {
   "codemirror_mode": {
    "name": "ipython",
    "version": 3
   },
   "file_extension": ".py",
   "mimetype": "text/x-python",
   "name": "python",
   "nbconvert_exporter": "python",
   "pygments_lexer": "ipython3",
   "version": "3.8.6"
  }
 },
 "nbformat": 4,
 "nbformat_minor": 5
}
