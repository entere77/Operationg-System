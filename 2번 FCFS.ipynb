{
 "cells": [
  {
   "cell_type": "code",
   "execution_count": 3,
   "id": "5b145357",
   "metadata": {},
   "outputs": [
    {
     "data": {
      "text/plain": [
       "[['P1', 2], ['P2', 1], ['P3', 8], ['P4', 4], ['P5', 5]]"
      ]
     },
     "execution_count": 3,
     "metadata": {},
     "output_type": "execute_result"
    }
   ],
   "source": [
    "df_2 = [['P1',2],\n",
    "        ['P2',1],\n",
    "        ['P3',8],\n",
    "        ['P4',4],\n",
    "        ['P5',5]]\n",
    "df_2"
   ]
  },
  {
   "cell_type": "code",
   "execution_count": 4,
   "id": "45732b3a",
   "metadata": {},
   "outputs": [],
   "source": [
    "ET = []\n",
    "for i in range(len(df_2)):\n",
    "    # first process\n",
    "    if(i==0):\n",
    "        ET.append(df_2[i][1])\n",
    "        \n",
    "    # get prevET + newBT\n",
    "    else:\n",
    "        ET.append(ET[i-1] + df_2[i][1])"
   ]
  },
  {
   "cell_type": "code",
   "execution_count": 5,
   "id": "0e847b7c",
   "metadata": {},
   "outputs": [],
   "source": [
    "# TAT는 Turn Around time\n",
    "\n",
    "TAT = []\n",
    "for i in range(len(df_2)):\n",
    "    TAT.append(ET[i]) # arrival time이 없기 때문에, Turn Around Time은 Exit time이 된다."
   ]
  },
  {
   "cell_type": "code",
   "execution_count": 6,
   "id": "4c9199b2",
   "metadata": {},
   "outputs": [],
   "source": [
    "# WT는 Wait time\n",
    "\n",
    "WT = []\n",
    "for i in range(len(df_2)):\n",
    "    WT.append(TAT[i] - df_2[i][1]) # d[i][1][0] 은 버스트 시간을 의미한다."
   ]
  },
  {
   "cell_type": "code",
   "execution_count": 7,
   "id": "c2860057",
   "metadata": {},
   "outputs": [],
   "source": [
    "# 평균 Wait time 구하기\n",
    "\n",
    "avg_WT = 0\n",
    "for i in WT:\n",
    "    avg_WT +=i\n",
    "avg_WT = (avg_WT/5)"
   ]
  },
  {
   "cell_type": "code",
   "execution_count": 8,
   "id": "4bbe71be",
   "metadata": {},
   "outputs": [
    {
     "name": "stdout",
     "output_type": "stream",
     "text": [
      "Process | Burst | Exit | Turn Around | Wait |\n",
      "    P1    |  2  |     2   |     2   |    0    |  \n",
      "    P2    |  1  |     3   |     3   |    2    |  \n",
      "    P3    |  8  |     11   |     11   |    3    |  \n",
      "    P4    |  4  |     15   |     15   |    11    |  \n",
      "    P5    |  5  |     20   |     20   |    15    |  \n",
      "Average Waiting Time:  6.2\n"
     ]
    }
   ],
   "source": [
    "# 출력\n",
    "\n",
    "print(\"Process | Burst | Exit | Turn Around | Wait |\")\n",
    "for i in range(5):\n",
    "      print(\"   \",df_2[i][0],\"   | \",df_2[i][1],\" |    \",ET[i],\"  |    \",TAT[i],\"  |   \",WT[i],\"   |  \")\n",
    "print(\"Average Waiting Time: \",avg_WT)"
   ]
  },
  {
   "cell_type": "code",
   "execution_count": null,
   "id": "6194f7af",
   "metadata": {},
   "outputs": [],
   "source": []
  },
  {
   "cell_type": "code",
   "execution_count": null,
   "id": "bdf6d533",
   "metadata": {},
   "outputs": [],
   "source": []
  },
  {
   "cell_type": "code",
   "execution_count": null,
   "id": "d8046be0",
   "metadata": {},
   "outputs": [],
   "source": []
  },
  {
   "cell_type": "code",
   "execution_count": null,
   "id": "8bfe2700",
   "metadata": {},
   "outputs": [],
   "source": []
  },
  {
   "cell_type": "code",
   "execution_count": null,
   "id": "aa177566",
   "metadata": {},
   "outputs": [],
   "source": []
  }
 ],
 "metadata": {
  "kernelspec": {
   "display_name": "Python 3 (ipykernel)",
   "language": "python",
   "name": "python3"
  },
  "language_info": {
   "codemirror_mode": {
    "name": "ipython",
    "version": 3
   },
   "file_extension": ".py",
   "mimetype": "text/x-python",
   "name": "python",
   "nbconvert_exporter": "python",
   "pygments_lexer": "ipython3",
   "version": "3.8.6"
  }
 },
 "nbformat": 4,
 "nbformat_minor": 5
}
