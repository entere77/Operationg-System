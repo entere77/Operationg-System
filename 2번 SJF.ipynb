{
 "cells": [
  {
   "cell_type": "code",
   "execution_count": 21,
   "id": "b8e1bb9a",
   "metadata": {},
   "outputs": [
    {
     "data": {
      "text/plain": [
       "[['P1', 2], ['P2', 1], ['P3', 8], ['P4', 4], ['P5', 5]]"
      ]
     },
     "execution_count": 21,
     "metadata": {},
     "output_type": "execute_result"
    }
   ],
   "source": [
    "df_2 = [['P1',2],\n",
    "        ['P2',1],\n",
    "        ['P3',8],\n",
    "        ['P4',4],\n",
    "        ['P5',5]]\n",
    "df_2"
   ]
  },
  {
   "cell_type": "code",
   "execution_count": 22,
   "id": "cf08d085",
   "metadata": {},
   "outputs": [],
   "source": [
    "d = dict()\n",
    "\n",
    "for i in range(5):\n",
    "    key = df_2[i][0]\n",
    "    l = list()\n",
    "    l.append(df_2[i][1])\n",
    "    d[key] = l"
   ]
  },
  {
   "cell_type": "code",
   "execution_count": 23,
   "id": "913f9527",
   "metadata": {},
   "outputs": [],
   "source": [
    "d = sorted(d.items(), key=lambda item: item[1][0])"
   ]
  },
  {
   "cell_type": "code",
   "execution_count": 24,
   "id": "3de337b5",
   "metadata": {},
   "outputs": [
    {
     "data": {
      "text/plain": [
       "[('P2', [1]), ('P1', [2]), ('P4', [4]), ('P5', [5]), ('P3', [8])]"
      ]
     },
     "execution_count": 24,
     "metadata": {},
     "output_type": "execute_result"
    }
   ],
   "source": [
    "# 우선순위가 같을 때, 버스트 시간이 작은 프로세스부터 CPU할당을 진행.\n",
    "\n",
    "d"
   ]
  },
  {
   "cell_type": "code",
   "execution_count": 25,
   "id": "43099700",
   "metadata": {},
   "outputs": [],
   "source": [
    "ET = []\n",
    "for i in range(len(d)):\n",
    "    # first process\n",
    "    if(i==0):\n",
    "        ET.append(d[i][1][0])\n",
    "        \n",
    "    # get prevET + newBT\n",
    "    else:\n",
    "        ET.append(ET[i-1] + d[i][1][0])"
   ]
  },
  {
   "cell_type": "code",
   "execution_count": 26,
   "id": "acf37d06",
   "metadata": {},
   "outputs": [],
   "source": [
    "# TAT는 Turn Around time\n",
    "\n",
    "TAT = []\n",
    "for i in range(len(d)):\n",
    "    TAT.append(ET[i]) # arrival time이 없기 때문에, Turn Around Time은 Exit time이 된다."
   ]
  },
  {
   "cell_type": "code",
   "execution_count": 27,
   "id": "3def8735",
   "metadata": {},
   "outputs": [],
   "source": [
    "# WT는 Wait time\n",
    "\n",
    "WT = []\n",
    "for i in range(len(d)):\n",
    "    WT.append(TAT[i] - d[i][1][0]) # d[i][1][0] 은 버스트 시간을 의미한다."
   ]
  },
  {
   "cell_type": "code",
   "execution_count": 28,
   "id": "08ce3a50",
   "metadata": {},
   "outputs": [],
   "source": [
    "# 평균 Wait time 구하기\n",
    "\n",
    "avg_WT = 0\n",
    "for i in WT:\n",
    "    avg_WT +=i\n",
    "avg_WT = (avg_WT/5)"
   ]
  },
  {
   "cell_type": "code",
   "execution_count": 29,
   "id": "919efd73",
   "metadata": {},
   "outputs": [
    {
     "name": "stdout",
     "output_type": "stream",
     "text": [
      "Process | Burst | Exit | Turn Around | Wait |\n",
      "    P2    |  1  |     1   |     1   |    0    |  \n",
      "    P1    |  2  |     3   |     3   |    1    |  \n",
      "    P4    |  4  |     7   |     7   |    3    |  \n",
      "    P5    |  5  |     12   |     12   |    7    |  \n",
      "    P3    |  8  |     20   |     20   |    12    |  \n",
      "Average Waiting Time:  4.6\n"
     ]
    }
   ],
   "source": [
    "# 출력\n",
    "\n",
    "print(\"Process | Burst | Exit | Turn Around | Wait |\")\n",
    "for i in range(5):\n",
    "      print(\"   \",d[i][0],\"   | \",d[i][1][0],\" |    \",ET[i],\"  |    \",TAT[i],\"  |   \",WT[i],\"   |  \")\n",
    "print(\"Average Waiting Time: \",avg_WT)"
   ]
  },
  {
   "cell_type": "code",
   "execution_count": null,
   "id": "65f91cd0",
   "metadata": {},
   "outputs": [],
   "source": []
  },
  {
   "cell_type": "code",
   "execution_count": null,
   "id": "ab084e5c",
   "metadata": {},
   "outputs": [],
   "source": []
  },
  {
   "cell_type": "code",
   "execution_count": null,
   "id": "5ab5a685",
   "metadata": {},
   "outputs": [],
   "source": []
  }
 ],
 "metadata": {
  "kernelspec": {
   "display_name": "Python 3 (ipykernel)",
   "language": "python",
   "name": "python3"
  },
  "language_info": {
   "codemirror_mode": {
    "name": "ipython",
    "version": 3
   },
   "file_extension": ".py",
   "mimetype": "text/x-python",
   "name": "python",
   "nbconvert_exporter": "python",
   "pygments_lexer": "ipython3",
   "version": "3.8.6"
  }
 },
 "nbformat": 4,
 "nbformat_minor": 5
}
