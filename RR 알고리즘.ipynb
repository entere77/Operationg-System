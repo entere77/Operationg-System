{
 "cells": [
  {
   "cell_type": "code",
   "execution_count": 2,
   "id": "619dcd99",
   "metadata": {},
   "outputs": [
    {
     "data": {
      "text/plain": [
       "[['P1', 10], ['P2', 29], ['P3', 3], ['P4', 7], ['P5', 12]]"
      ]
     },
     "execution_count": 2,
     "metadata": {},
     "output_type": "execute_result"
    }
   ],
   "source": [
    "df_1 = [['P1',10],\n",
    "        ['P2',29],\n",
    "        ['P3',3],\n",
    "        ['P4',7],\n",
    "        ['P5',12]]\n",
    "df_1"
   ]
  },
  {
   "cell_type": "code",
   "execution_count": 3,
   "id": "ded399bb",
   "metadata": {},
   "outputs": [
    {
     "data": {
      "text/plain": [
       "[['P1', 2], ['P2', 1], ['P3', 8], ['P4', 4], ['P5', 5]]"
      ]
     },
     "execution_count": 3,
     "metadata": {},
     "output_type": "execute_result"
    }
   ],
   "source": [
    "df_2 = [['P1',2],\n",
    "        ['P2',1],\n",
    "        ['P3',8],\n",
    "        ['P4',4],\n",
    "        ['P5',5]]\n",
    "df_2"
   ]
  },
  {
   "cell_type": "code",
   "execution_count": 4,
   "id": "62c55df2",
   "metadata": {},
   "outputs": [],
   "source": [
    "def findWaitingTime(processes, n, bt, wt, quantum):\n",
    "    rem_bt = [0] * n\n",
    " \n",
    "    # Copy the burst time into rt[]\n",
    "    for i in range(n):\n",
    "        rem_bt[i] = bt[i]\n",
    "    t = 0 # Current time\n",
    "\n",
    "    while(1):\n",
    "        done = True\n",
    "        \n",
    "        for i in range(n):\n",
    "\n",
    "            if (rem_bt[i] > 0) :\n",
    "                done = False # There is a pending process\n",
    "                 \n",
    "                if (rem_bt[i] > quantum) :\n",
    "\n",
    "                    t += quantum\n",
    "\n",
    "                    rem_bt[i] -= quantum\n",
    "                 \n",
    "                else:\n",
    "                    t = t + rem_bt[i]\n",
    "                    \n",
    "                    wt[i] = t - bt[i]\n",
    "                    \n",
    "                    rem_bt[i] = 0\n",
    "                 \n",
    "        # If all processes are done\n",
    "        if (done == True):\n",
    "            break"
   ]
  },
  {
   "cell_type": "code",
   "execution_count": 5,
   "id": "806e8b70",
   "metadata": {},
   "outputs": [],
   "source": [
    "def findTurnAroundTime(processes, n, bt, wt, tat):\n",
    "     \n",
    "    # Calculating turnaround time\n",
    "    for i in range(n):\n",
    "        tat[i] = bt[i] + wt[i]"
   ]
  },
  {
   "cell_type": "code",
   "execution_count": 11,
   "id": "5b369dec",
   "metadata": {},
   "outputs": [],
   "source": [
    "# Function to calculate average waiting\n",
    "# and turn-around times.\n",
    "def findavgTime(processes, n, bt, quantum):\n",
    "    wt = [0] * n\n",
    "    tat = [0] * n\n",
    " \n",
    "    # Function to find waiting time\n",
    "    # of all processes\n",
    "    findWaitingTime(processes, n, bt,\n",
    "                         wt, quantum)\n",
    " \n",
    "    # Function to find turn around time\n",
    "    # for all processes\n",
    "    findTurnAroundTime(processes, n, bt,\n",
    "                                wt, tat)\n",
    " \n",
    "    # Display processes along with all details\n",
    "    print(\"Processes    Burst Time     Waiting\",\n",
    "                     \"Time    Turn-Around Time\")\n",
    "    total_wt = 0\n",
    "    total_tat = 0\n",
    "    for i in range(n):\n",
    " \n",
    "        total_wt = total_wt + wt[i]\n",
    "        total_tat = total_tat + tat[i]\n",
    "        print(\" \", processes[i], \"\\t\\t\", bt[i],\n",
    "              \"\\t\\t\", wt[i], \"\\t\\t\", tat[i])   # processes[i]로 고침, i+1에서\n",
    " \n",
    "    print(\"\\nAverage waiting time = %.5f \"%(total_wt /n) )\n",
    "    #print(\"Average turn around time = %.5f \"% (total_tat / n))"
   ]
  },
  {
   "cell_type": "code",
   "execution_count": 12,
   "id": "b6e12e0d",
   "metadata": {},
   "outputs": [
    {
     "name": "stdout",
     "output_type": "stream",
     "text": [
      "1번 프로세스 집합\n",
      "Processes    Burst Time     Waiting Time    Turn-Around Time\n",
      "  P1 \t\t 10 \t\t 26 \t\t 36\n",
      "  P2 \t\t 29 \t\t 32 \t\t 61\n",
      "  P3 \t\t 3 \t\t 12 \t\t 15\n",
      "  P4 \t\t 7 \t\t 25 \t\t 32\n",
      "  P5 \t\t 12 \t\t 32 \t\t 44\n",
      "\n",
      "Average waiting time = 25.40000 \n",
      "\n",
      "\n",
      "2번 프로세스 집합\n",
      "Processes    Burst Time     Waiting Time    Turn-Around Time\n",
      "  P1 \t\t 2 \t\t 0 \t\t 2\n",
      "  P2 \t\t 1 \t\t 2 \t\t 3\n",
      "  P3 \t\t 8 \t\t 12 \t\t 20\n",
      "  P4 \t\t 4 \t\t 9 \t\t 13\n",
      "  P5 \t\t 5 \t\t 13 \t\t 18\n",
      "\n",
      "Average waiting time = 7.20000 \n"
     ]
    }
   ],
   "source": [
    "# Driver code\n",
    "if __name__ ==\"__main__\":\n",
    "     \n",
    "    # Process id's\n",
    "    proc1 = list()\n",
    "    proc2 = list()\n",
    "    for i in range(5):\n",
    "        proc1.append(df_1[i][0])\n",
    "        proc2.append(df_2[i][0])\n",
    " \n",
    "    # Burst time of all processes\n",
    "    burst_time1 = list()\n",
    "    burst_time2 = list()\n",
    "    for i in range(5):\n",
    "        burst_time1.append(df_1[i][1])\n",
    "        burst_time2.append(df_2[i][1])\n",
    " \n",
    "    # Time quantum\n",
    "    quantum = 2;\n",
    "    print(\"1번 프로세스 집합\")\n",
    "    findavgTime(proc1, 5, burst_time1, quantum)\n",
    "    print('\\n')\n",
    "    print(\"2번 프로세스 집합\")\n",
    "    findavgTime(proc2, 5, burst_time2, quantum)"
   ]
  },
  {
   "cell_type": "code",
   "execution_count": null,
   "id": "f3ab2f13",
   "metadata": {},
   "outputs": [],
   "source": []
  },
  {
   "cell_type": "code",
   "execution_count": null,
   "id": "3dccce5a",
   "metadata": {},
   "outputs": [],
   "source": []
  },
  {
   "cell_type": "code",
   "execution_count": null,
   "id": "d955156b",
   "metadata": {},
   "outputs": [],
   "source": []
  },
  {
   "cell_type": "code",
   "execution_count": null,
   "id": "d4c3726f",
   "metadata": {},
   "outputs": [],
   "source": []
  },
  {
   "cell_type": "code",
   "execution_count": null,
   "id": "db270474",
   "metadata": {},
   "outputs": [],
   "source": []
  },
  {
   "cell_type": "code",
   "execution_count": null,
   "id": "deac10e8",
   "metadata": {},
   "outputs": [],
   "source": []
  },
  {
   "cell_type": "code",
   "execution_count": null,
   "id": "910243d7",
   "metadata": {},
   "outputs": [],
   "source": []
  },
  {
   "cell_type": "code",
   "execution_count": null,
   "id": "f1b68a83",
   "metadata": {},
   "outputs": [],
   "source": []
  }
 ],
 "metadata": {
  "kernelspec": {
   "display_name": "Python 3 (ipykernel)",
   "language": "python",
   "name": "python3"
  },
  "language_info": {
   "codemirror_mode": {
    "name": "ipython",
    "version": 3
   },
   "file_extension": ".py",
   "mimetype": "text/x-python",
   "name": "python",
   "nbconvert_exporter": "python",
   "pygments_lexer": "ipython3",
   "version": "3.8.6"
  }
 },
 "nbformat": 4,
 "nbformat_minor": 5
}
