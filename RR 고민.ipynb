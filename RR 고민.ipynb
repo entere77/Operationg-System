{
 "cells": [
  {
   "cell_type": "code",
   "execution_count": 1,
   "id": "12f24ca7",
   "metadata": {},
   "outputs": [
    {
     "data": {
      "text/plain": [
       "[['P1', 10, 5], ['P2', 29, 1], ['P3', 3, 3], ['P4', 7, 4], ['P5', 12, 2]]"
      ]
     },
     "execution_count": 1,
     "metadata": {},
     "output_type": "execute_result"
    }
   ],
   "source": [
    "df_1 = [['P1',10,5],\n",
    "        ['P2',29,1],\n",
    "        ['P3',3,3],\n",
    "        ['P4',7,4],\n",
    "        ['P5',12,2]]\n",
    "df_1"
   ]
  },
  {
   "cell_type": "code",
   "execution_count": 22,
   "id": "bd1dbd42",
   "metadata": {},
   "outputs": [],
   "source": [
    "d = dict()\n",
    "\n",
    "for i in range(5):\n",
    "    key = df_1[i][0]\n",
    "    l = list()\n",
    "    l.append(df_1[i][1])\n",
    "    l.append(df_1[i][2])\n",
    "    d[key] = l"
   ]
  },
  {
   "cell_type": "code",
   "execution_count": 23,
   "id": "4c627a5e",
   "metadata": {},
   "outputs": [],
   "source": [
    "d = sorted(d.items(), key=lambda item: item[1][1])"
   ]
  },
  {
   "cell_type": "code",
   "execution_count": 24,
   "id": "dcb53d0a",
   "metadata": {
    "scrolled": true
   },
   "outputs": [
    {
     "data": {
      "text/plain": [
       "[('P2', [29, 1]),\n",
       " ('P5', [12, 2]),\n",
       " ('P3', [3, 3]),\n",
       " ('P4', [7, 4]),\n",
       " ('P1', [10, 5])]"
      ]
     },
     "execution_count": 24,
     "metadata": {},
     "output_type": "execute_result"
    }
   ],
   "source": [
    "d"
   ]
  },
  {
   "cell_type": "code",
   "execution_count": 41,
   "id": "a2de1ad4",
   "metadata": {},
   "outputs": [
    {
     "data": {
      "text/plain": [
       "12"
      ]
     },
     "execution_count": 41,
     "metadata": {},
     "output_type": "execute_result"
    }
   ],
   "source": [
    "d[1][1][0]"
   ]
  },
  {
   "cell_type": "code",
   "execution_count": 30,
   "id": "8ce71f63",
   "metadata": {},
   "outputs": [],
   "source": [
    "proc = list()\n",
    "for i in range(5):\n",
    "    proc.append(d[i][0])"
   ]
  },
  {
   "cell_type": "code",
   "execution_count": 31,
   "id": "e42c14f0",
   "metadata": {},
   "outputs": [
    {
     "data": {
      "text/plain": [
       "['P2', 'P5', 'P3', 'P4', 'P1']"
      ]
     },
     "execution_count": 31,
     "metadata": {},
     "output_type": "execute_result"
    }
   ],
   "source": [
    "proc"
   ]
  },
  {
   "cell_type": "code",
   "execution_count": 42,
   "id": "f005e2a1",
   "metadata": {},
   "outputs": [],
   "source": [
    "burst_time = list()\n",
    "for i in range(5):\n",
    "    burst_time.append(d[i][1][0])"
   ]
  },
  {
   "cell_type": "code",
   "execution_count": 43,
   "id": "c0723456",
   "metadata": {},
   "outputs": [
    {
     "data": {
      "text/plain": [
       "[29, 12, 3, 7, 10]"
      ]
     },
     "execution_count": 43,
     "metadata": {},
     "output_type": "execute_result"
    }
   ],
   "source": [
    "burst_time"
   ]
  },
  {
   "cell_type": "code",
   "execution_count": 44,
   "id": "0da43794",
   "metadata": {},
   "outputs": [
    {
     "name": "stdout",
     "output_type": "stream",
     "text": [
      "Processes    Burst Time     Waiting Time    Turn-Around Time\n",
      "  P2 \t\t 29 \t\t 32 \t\t 61\n",
      "  P5 \t\t 12 \t\t 32 \t\t 44\n",
      "  P3 \t\t 3 \t\t 12 \t\t 15\n",
      "  P4 \t\t 7 \t\t 25 \t\t 32\n",
      "  P1 \t\t 10 \t\t 30 \t\t 40\n",
      "\n",
      "Average waiting time = 26.20000 \n",
      "Average turn around time = 38.40000 \n"
     ]
    }
   ],
   "source": [
    "# Python3 program for implementation of\n",
    "# RR scheduling\n",
    " \n",
    "# Function to find the waiting time\n",
    "# for all processes\n",
    "def findWaitingTime(processes, n, bt, wt, quantum):\n",
    "    rem_bt = [0] * n\n",
    " \n",
    "    # Copy the burst time into rt[]\n",
    "    for i in range(n):\n",
    "        rem_bt[i] = bt[i]\n",
    "    t = 0 # Current time\n",
    " \n",
    "    # Keep traversing processes in round\n",
    "    # robin manner until all of them are\n",
    "    # not done.\n",
    "    while(1):\n",
    "        done = True\n",
    " \n",
    "        # Traverse all processes one by\n",
    "        # one repeatedly\n",
    "        for i in range(n):\n",
    "             \n",
    "            # If burst time of a process is greater\n",
    "            # than 0 then only need to process further\n",
    "            if (rem_bt[i] > 0) :\n",
    "                done = False # There is a pending process\n",
    "                 \n",
    "                if (rem_bt[i] > quantum) :\n",
    "                 \n",
    "                    # Increase the value of t i.e. shows\n",
    "                    # how much time a process has been processed\n",
    "                    t += quantum\n",
    " \n",
    "                    # Decrease the burst_time of current\n",
    "                    # process by quantum\n",
    "                    rem_bt[i] -= quantum\n",
    "                 \n",
    "                # If burst time is smaller than or equal \n",
    "                # to quantum. Last cycle for this process\n",
    "                else:\n",
    "                 \n",
    "                    # Increase the value of t i.e. shows\n",
    "                    # how much time a process has been processed\n",
    "                    t = t + rem_bt[i]\n",
    " \n",
    "                    # Waiting time is current time minus\n",
    "                    # time used by this process\n",
    "                    wt[i] = t - bt[i]\n",
    " \n",
    "                    # As the process gets fully executed\n",
    "                    # make its remaining burst time = 0\n",
    "                    rem_bt[i] = 0\n",
    "                 \n",
    "        # If all processes are done\n",
    "        if (done == True):\n",
    "            break\n",
    "             \n",
    "# Function to calculate turn around time\n",
    "def findTurnAroundTime(processes, n, bt, wt, tat):\n",
    "     \n",
    "    # Calculating turnaround time\n",
    "    for i in range(n):\n",
    "        tat[i] = bt[i] + wt[i]\n",
    " \n",
    " \n",
    "# Function to calculate average waiting\n",
    "# and turn-around times.\n",
    "def findavgTime(processes, n, bt, quantum):\n",
    "    wt = [0] * n\n",
    "    tat = [0] * n\n",
    " \n",
    "    # Function to find waiting time\n",
    "    # of all processes\n",
    "    findWaitingTime(processes, n, bt,\n",
    "                         wt, quantum)\n",
    " \n",
    "    # Function to find turn around time\n",
    "    # for all processes\n",
    "    findTurnAroundTime(processes, n, bt,\n",
    "                                wt, tat)\n",
    " \n",
    "    # Display processes along with all details\n",
    "    print(\"Processes    Burst Time     Waiting\",\n",
    "                     \"Time    Turn-Around Time\")\n",
    "    total_wt = 0\n",
    "    total_tat = 0\n",
    "    for i in range(n):\n",
    " \n",
    "        total_wt = total_wt + wt[i]\n",
    "        total_tat = total_tat + tat[i]\n",
    "        print(\" \", processes[i], \"\\t\\t\", bt[i],\n",
    "              \"\\t\\t\", wt[i], \"\\t\\t\", tat[i])   # processes[i]로 고침, i+1에서\n",
    " \n",
    "    print(\"\\nAverage waiting time = %.5f \"%(total_wt /n) )\n",
    "    print(\"Average turn around time = %.5f \"% (total_tat / n))\n",
    "     \n",
    "# Driver code\n",
    "if __name__ ==\"__main__\":\n",
    "     \n",
    "    # Process id's\n",
    "    proc = list()\n",
    "    for i in range(5):\n",
    "        proc.append(d[i][0])\n",
    " \n",
    "    # Burst time of all processes\n",
    "    burst_time = list()\n",
    "    for i in range(5):\n",
    "        burst_time.append(d[i][1][0])\n",
    " \n",
    "    # Time quantum\n",
    "    quantum = 2;\n",
    "    findavgTime(proc, 5, burst_time, quantum)\n",
    " \n",
    "# This code is contributed by\n",
    "# Shubham Singh(SHUBHAMSINGH10)"
   ]
  },
  {
   "cell_type": "code",
   "execution_count": null,
   "id": "ad06e434",
   "metadata": {},
   "outputs": [],
   "source": []
  },
  {
   "cell_type": "code",
   "execution_count": null,
   "id": "1c37b6cd",
   "metadata": {},
   "outputs": [],
   "source": [
    "    while(1):\n",
    "        done = True\n",
    "\n",
    "        for i in range(n):\n",
    "\n",
    "            if (rem_bt[i] > 0) :\n",
    "                done = False # There is a pending process\n",
    "                 \n",
    "                if (rem_bt[i] > quantum) :\n",
    "\n",
    "                    t += quantum\n",
    "\n",
    "                    rem_bt[i] -= quantum\n",
    "                 \n",
    "\n",
    "                else:\n",
    "\n",
    "                    t = t + rem_bt[i]\n",
    "                    \n",
    "                    wt[i] = t - bt[i]\n",
    "                    \n",
    "                    rem_bt[i] = 0\n",
    "                 \n",
    "        # If all processes are done\n",
    "        if (done == True):\n",
    "            break\n",
    "       "
   ]
  },
  {
   "cell_type": "code",
   "execution_count": null,
   "id": "04ed73ab",
   "metadata": {},
   "outputs": [],
   "source": []
  },
  {
   "cell_type": "code",
   "execution_count": null,
   "id": "2c760bfa",
   "metadata": {},
   "outputs": [],
   "source": []
  },
  {
   "cell_type": "code",
   "execution_count": null,
   "id": "6edf9aff",
   "metadata": {},
   "outputs": [],
   "source": []
  },
  {
   "cell_type": "code",
   "execution_count": null,
   "id": "e523df95",
   "metadata": {},
   "outputs": [],
   "source": []
  },
  {
   "cell_type": "code",
   "execution_count": null,
   "id": "23558505",
   "metadata": {},
   "outputs": [],
   "source": []
  },
  {
   "cell_type": "code",
   "execution_count": null,
   "id": "99c80b10",
   "metadata": {},
   "outputs": [],
   "source": []
  },
  {
   "cell_type": "code",
   "execution_count": null,
   "id": "e1edbfbb",
   "metadata": {},
   "outputs": [],
   "source": [
    "https://mu-mu-syo.tistory.com/25   # Priority + RR 예시\n",
    "선점일 때 SJF랑 비선점일 때 SJF 둘 다 구현해보기."
   ]
  }
 ],
 "metadata": {
  "kernelspec": {
   "display_name": "Python 3 (ipykernel)",
   "language": "python",
   "name": "python3"
  },
  "language_info": {
   "codemirror_mode": {
    "name": "ipython",
    "version": 3
   },
   "file_extension": ".py",
   "mimetype": "text/x-python",
   "name": "python",
   "nbconvert_exporter": "python",
   "pygments_lexer": "ipython3",
   "version": "3.8.6"
  }
 },
 "nbformat": 4,
 "nbformat_minor": 5
}
